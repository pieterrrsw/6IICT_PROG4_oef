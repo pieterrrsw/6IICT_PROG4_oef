{
 "cells": [
  {
   "attachments": {},
   "cell_type": "markdown",
   "metadata": {},
   "source": [
    "<div style=\"margin-bottom:-35px;\">\n",
    "    <font color=#690027 markdown=\"1\">\n",
    "        <h1> <center> Gebaseerd op een cursus van:</center> </h1> \n",
    "    </font>\n",
    "    <a href=\"https://www.aiopschool.be/chatbot/\"> \n",
    "        <img src=\"../_afbeeldingen/bannerugentdwengo.png\" alt=\"Dwengo\" style =\"display: block; margin-left: auto; margin-right: auto; margin-bottom: 30px; width:20%\"/>\n",
    "    </a>\n",
    "</div>"
   ]
  },
  {
   "attachments": {},
   "cell_type": "markdown",
   "metadata": {},
   "source": [
    "<div style=\"margin-bottom:-35px;\">\n",
    "    <font color=#690027 markdown=\"1\">\n",
    "        <h1>1. AI Chatbots</h1> \n",
    "    </font>\n",
    "</div>"
   ]
  },
  {
   "attachments": {},
   "cell_type": "markdown",
   "metadata": {},
   "source": [
    "<div style=\"background-color:#013220\">\n",
    "    In deze notebook leer je hoe een eenvoudige, regelgebaseerde (AI) chatbot wordt opgebouwd. <br>\n",
    "    Je ondervindt wat de mogelijkheden en de beperkingen zijn van zo'n chatbot. \n",
    "</div>"
   ]
  },
  {
   "attachments": {},
   "cell_type": "markdown",
   "metadata": {},
   "source": [
    "<div style=\"margin-bottom:-35px;\">\n",
    "    <font color=#690027 markdown=\"1\">\n",
    "        <h3>1.1 Soorten chatbots</h3> \n",
    "    </font>\n",
    "</div>\n"
   ]
  },
  {
   "attachments": {},
   "cell_type": "markdown",
   "metadata": {},
   "source": [
    "In het domein van de artificiële intelligentie onderscheidt men regelgebaseerde (`Artificial Intelligence`) en lerende systemen (`Machine Learning`), zo ook in het deelgebied van de chatbots.\n",
    "\n",
    "**De regelgebaseerde chatbots** worden geprogrammeerd met een set regels, ze volgen als het ware een script. \n",
    "Die robots kan je vergelijken met een online enquête: nuttig en eenvoudig, maar niet heel flexibel.\n",
    "\n",
    "Een tweede grote groep zijn **de lerende chatbots**. Deze hebben steeds een (grote) hoeveelheid voorbeeldtekst nodig\n",
    "die ze analyseren en waaruit ze leren hoe een conversatie werkt. Het leren zelf kan op vele manieren gebeuren.\n",
    "Sommige zullen bv. een basiskennis van taal verwerven en snappen dat \"katje\" en \"kat\" in grote mate over hetzelfde gaat.\n",
    "\n",
    "Andere **lerende chatbots** (zoals bijvoorbeeld deze gebaseerd op GPT-2 en -3) gebruiken `deep learning` om echt te begrijpen hoe taal werkt en wat het beste antwoord is. Deze chatbots kunnen compleet nieuwe antwoorden verzinnen."
   ]
  },
  {
   "attachments": {},
   "cell_type": "markdown",
   "metadata": {},
   "source": [
    "<div style=\"margin-bottom:-35px;\">\n",
    "    <font color=#690027 markdown=\"1\">\n",
    "        <h3>1.2 Onderwerp van deze Notebook</h3> \n",
    "    </font>\n",
    "</div>\n"
   ]
  },
  {
   "attachments": {},
   "cell_type": "markdown",
   "metadata": {},
   "source": [
    "In deze notebook programmeer je **eerst een zeer eenvoudige, regelgebaseerde (AI) chatbot** die werkt zoals een woordenboek (of *dictionary*). Voor elke vraag of zin die de gebruiker stelt, zoekt de chatbot het bijbehorende antwoord op. Staat de vraag niet in het woordenboek, dan kan de chatbot daar niet mee overweg. \n",
    "\n",
    "Nadien maak je **een lerende (ML) chatbot**. Je leert deze welke vragen ongeveer gelijk zijn. Zodat het hetzelfde antwoord hierop zal geven. De robot slaat de tekst uit een conversatie op, en zoekt dan bij elke vraag in de database welke gekende vraag daar het meest op lijkt. Hiervoor gebruikt deze notebook het concept van de Levenshteinafstand (bepaald in *ml_bot.py*).\n",
    "\n",
    "Tenslotte sluit je af met een praktisch voorbeeld van de **lerende chatbot**. Een **medische assistant** die mensen helpt met het halen van hun vaccinaties."
   ]
  },
  {
   "attachments": {},
   "cell_type": "markdown",
   "metadata": {},
   "source": [
    "<div style=\"margin-bottom:-35px;\">\n",
    "    <font color=#690027 markdown=\"1\">\n",
    "        <h2>2. Een simpele (AI) chatbot aanmaken</h2> \n",
    "    </font>\n",
    "</div>"
   ]
  },
  {
   "attachments": {},
   "cell_type": "markdown",
   "metadata": {},
   "source": [
    "<b>In deze paragraaf maak je een chatbot. Hoe die werkt, zie je iets verderop in de paragraaf.</b>"
   ]
  },
  {
   "cell_type": "markdown",
   "metadata": {},
   "source": [
    "Je vertrekt van een mogelijk gesprek bestaande uit vragen en overeenkomstige antwoorden. Dit gesprek wordt aan de computer gegeven in de vorm van een *dictionary*: de *sleutel (key)* is een 'vraag', de *waarde (value)* het 'antwoord' op die vraag. Je kan zelf extra vragen en antwoorden toevoegen.\n",
    "\n",
    "In de volgende code-cel wordt met de variabele `conversatie` verwezen naar de hierboven uitgelegde *dictionary*. Voer de code-cel uit."
   ]
  },
  {
   "cell_type": "code",
   "execution_count": 1,
   "metadata": {
    "colab": {
     "base_uri": "https://localhost:8080/"
    },
    "id": "bCRzKY90y0VV",
    "outputId": "8ffd87c5-9bdc-4d06-bb8c-7f58eea42f40"
   },
   "outputs": [],
   "source": [
    "conversatie = {\n",
    "               \"Hallo\": \"Hi!\",\n",
    "               \"Hoe gaat het met jou?\": \"Prima\",\n",
    "               \"Wie ben jij?\": \"Marvin de robot\",\n",
    "               \"Tot ziens\": \"Bye\",\n",
    "                # voeg hier eventueel andere vragen en antwoorden toe\n",
    "              }"
   ]
  },
  {
   "attachments": {},
   "cell_type": "markdown",
   "metadata": {},
   "source": [
    "Aan de hand van volgende code-cel test je deze *dictionary* eens uit. "
   ]
  },
  {
   "cell_type": "code",
   "execution_count": 2,
   "metadata": {},
   "outputs": [
    {
     "name": "stdout",
     "output_type": "stream",
     "text": [
      "Prima\n"
     ]
    }
   ],
   "source": [
    "# vraag en antwoord\n",
    "print(conversatie[\"Hoe gaat het met jou?\"])"
   ]
  },
  {
   "attachments": {},
   "cell_type": "markdown",
   "metadata": {},
   "source": [
    "#### Oefen mee 2.1\n",
    "Voeg minstens drie vragen en overeenkomstige antwoorden toe aan de `conversatie`."
   ]
  },
  {
   "attachments": {},
   "cell_type": "markdown",
   "metadata": {},
   "source": [
    "#### Oefen mee 2.2\n",
    "\n",
    "-  Geef een sleutel in en controleer of je het juiste antwoord terugkrijgt. "
   ]
  },
  {
   "cell_type": "code",
   "execution_count": 4,
   "metadata": {},
   "outputs": [
    {
     "name": "stdout",
     "output_type": "stream",
     "text": [
      "Bye\n"
     ]
    }
   ],
   "source": [
    "# vraag en antwoord\n",
    "print(conversatie[\"Tot ziens\"])"
   ]
  },
  {
   "attachments": {},
   "cell_type": "markdown",
   "metadata": {},
   "source": [
    "- Wat gebeurt er als je een onbestaande sleutel ingeeft. VB. \"Tot wiens\"?"
   ]
  },
  {
   "attachments": {},
   "cell_type": "markdown",
   "metadata": {},
   "source": [
    "**Antwoord:**"
   ]
  },
  {
   "attachments": {},
   "cell_type": "markdown",
   "metadata": {},
   "source": [
    "<div style=\"background-color:#000065\"> \n",
    "    Op deze manier werken - enkel op basis van een <em>dictionary</em> - is natuurlijk zeer beperkt. Er kan enkel een antwoord verstrekt worden op een vraag die letterlijk overeenkomt met een sleutel. De AI chatbot die enkel de regels van een dictionary volgt, is dan ook weinig nuttig. Meer mogelijkheden krijg je als je een chatbot traint.\n",
    "</div>"
   ]
  },
  {
   "attachments": {},
   "cell_type": "markdown",
   "metadata": {},
   "source": [
    "<div style=\"margin-bottom:-35px;\">\n",
    "    <font color=#690027 markdown=\"1\">\n",
    "        <h2>3. Een Levenshteinafstand (ML) chatbot </h2> \n",
    "    </font>\n",
    "</div> "
   ]
  },
  {
   "attachments": {},
   "cell_type": "markdown",
   "metadata": {},
   "source": [
    "### Nodige modules importeren\n",
    "\n",
    "Voor je aan de slag gaat, moet je eerst de nodige tools voorzien. <br> Je importeert daartoe onderstaande modules (dit hoef je maar één keer te doen). Deze modules bevatten functies en methodes die je in volgende onderdelen nodig zult hebben.\n",
    "\n",
    "Voer onderstaande code-cellen uit (je hoeft deze code niet in detail te begrijpen). "
   ]
  },
  {
   "cell_type": "code",
   "execution_count": 5,
   "metadata": {},
   "outputs": [
    {
     "name": "stdout",
     "output_type": "stream",
     "text": [
      "Requirement already satisfied: Levenshtein in c:\\users\\hendrik.clijsters\\desktop\\venv\\les_venv\\lib\\site-packages (0.20.9)\n",
      "Requirement already satisfied: rapidfuzz<3.0.0,>=2.3.0 in c:\\users\\hendrik.clijsters\\desktop\\venv\\les_venv\\lib\\site-packages (from Levenshtein) (2.13.7)\n"
     ]
    },
    {
     "name": "stderr",
     "output_type": "stream",
     "text": [
      "WARNING: You are using pip version 22.0.4; however, version 22.3.1 is available.\n",
      "You should consider upgrading via the 'C:\\Users\\Hendrik.Clijsters\\Desktop\\venv\\les_venv\\Scripts\\python.exe -m pip install --upgrade pip' command.\n"
     ]
    }
   ],
   "source": [
    "# Wees zeker dat je de correcte venv gebruikt, vooraleer de code uit te voeren.\n",
    "import sys\n",
    "!{sys.executable} -m pip install Levenshtein"
   ]
  },
  {
   "cell_type": "code",
   "execution_count": 6,
   "metadata": {
    "id": "W15nnvwSyZaa"
   },
   "outputs": [
    {
     "name": "stdout",
     "output_type": "stream",
     "text": [
      "Geen antwoord\n"
     ]
    }
   ],
   "source": [
    "from ml_bot import ML_Chatbot        # om ML chatbot aan te maken  \n",
    "from Levenshtein import distance     # Levenshteinafstand"
   ]
  },
  {
   "attachments": {},
   "cell_type": "markdown",
   "metadata": {},
   "source": [
    "Nu ben je klaar voor **het ontwikkelen van een Levenshteinafstand (ML) chatbot**."
   ]
  },
  {
   "attachments": {},
   "cell_type": "markdown",
   "metadata": {},
   "source": [
    "### Ontwikkelen Levenshteinafstand (ML) chatbot"
   ]
  },
  {
   "attachments": {},
   "cell_type": "markdown",
   "metadata": {},
   "source": [
    "Door de volgende code-cel uit te voeren, maak je een chatbot aan, die je kan trainen. De klasse ChatBot komt uit het bestand **ml_bot.py**. Je kan de naam van de chatbot zelf kiezen; hier werd gekozen om de bot Marvin te noemen. Verander gerust deze naam, als je dat wilt."
   ]
  },
  {
   "cell_type": "code",
   "execution_count": 7,
   "metadata": {},
   "outputs": [],
   "source": [
    "# chatbot genereren\n",
    "bot = ML_Chatbot(\"Marvin\")"
   ]
  },
  {
   "attachments": {},
   "cell_type": "markdown",
   "metadata": {},
   "source": [
    "<div style=\"background-color:#013220\">\n",
    "    Bovenstaande code is een voorbeeld van <b>Object geOriënteerd Programmeren (OOP)</b>.\n",
    "    Op basis van een template kan je 1 of meerdere objecten maken. In dit geval is met het template ChatBot slechts 1 object bot gemaakt. Dit object bot heeft de naam \"Marvin\" gekregen.\n",
    "</div>"
   ]
  },
  {
   "attachments": {},
   "cell_type": "markdown",
   "metadata": {},
   "source": [
    "Op dit moment is het brein van deze robot nog leeg: de bot Marvin heeft geen enkel idee hoe een conversatie eruitziet. Om hem dit aan te leren, zal je hem trainen met een voorbeeldgesprek. Dit gesprek noemt men de *trainingsdata*.\n",
    "\n",
    "Als trainingsdata gebruik je de *dictionary* `conversatie` van hierboven."
   ]
  },
  {
   "cell_type": "markdown",
   "metadata": {},
   "source": [
    "Door de volgende code-cel uit te voeren, train je de chatbot op basis van de trainingsdata."
   ]
  },
  {
   "cell_type": "code",
   "execution_count": 8,
   "metadata": {
    "colab": {
     "base_uri": "https://localhost:8080/"
    },
    "id": "bCRzKY90y0VV",
    "outputId": "8ffd87c5-9bdc-4d06-bb8c-7f58eea42f40"
   },
   "outputs": [],
   "source": [
    "# trainen van de bot\n",
    "bot.train(conversatie)"
   ]
  },
  {
   "attachments": {},
   "cell_type": "markdown",
   "metadata": {},
   "source": [
    "Om te kijken of het werkt, bekijk je hoe hij reageert als iemand \"Hallo\" zegt:"
   ]
  },
  {
   "cell_type": "code",
   "execution_count": 9,
   "metadata": {
    "colab": {
     "base_uri": "https://localhost:8080/"
    },
    "id": "-TbtcniEzNHN",
    "outputId": "7b576746-164b-420d-db70-174d23a78ee2",
    "scrolled": true
   },
   "outputs": [
    {
     "name": "stdout",
     "output_type": "stream",
     "text": [
      "Hi!\n"
     ]
    }
   ],
   "source": [
    "print(bot.zoek_antwoord(\"Hallo\"))"
   ]
  },
  {
   "attachments": {},
   "cell_type": "markdown",
   "metadata": {},
   "source": [
    "#### Oefen mee 3.1: korte test\n",
    "\"Hallo\" stond in de dictionary. Het is dan ook geen wonder dat de bot een antwoord kan geven.\n",
    "\n",
    "-  Geef eens een onbestaande, maar gelijkende vraag in.\n",
    "-  Geef ook eens een onbestaande en niet-gelijkende vraag in."
   ]
  },
  {
   "cell_type": "code",
   "execution_count": 10,
   "metadata": {},
   "outputs": [
    {
     "name": "stdout",
     "output_type": "stream",
     "text": [
      "Bye\n"
     ]
    }
   ],
   "source": [
    "print(bot.zoek_antwoord(\"Tot ziens\"))"
   ]
  },
  {
   "attachments": {},
   "cell_type": "markdown",
   "metadata": {
    "id": "E2URWutU1T2m"
   },
   "source": [
    "Bekijk de *dictionary*. Waarom zou de Chatbot bij de onbestaande vragen voor het gegeven antwoord gaan?"
   ]
  },
  {
   "cell_type": "code",
   "execution_count": null,
   "metadata": {
    "colab": {
     "base_uri": "https://localhost:8080/"
    },
    "id": "bCRzKY90y0VV",
    "outputId": "8ffd87c5-9bdc-4d06-bb8c-7f58eea42f40"
   },
   "outputs": [],
   "source": [
    "conversatie = {\n",
    "               \"Hallo\": \"Hi!\",\n",
    "               \"Hoe gaat het met jou?\": \"Prima\",\n",
    "               \"Wie ben jij?\": \"Marvin de robot\",\n",
    "               \"Tot ziens\": \"Bye\",\n",
    "                # voeg hier eventueel andere vragen en antwoorden toe\n",
    "              }"
   ]
  },
  {
   "attachments": {},
   "cell_type": "markdown",
   "metadata": {
    "id": "E2URWutU1T2m"
   },
   "source": [
    "**Antwoord:**"
   ]
  },
  {
   "attachments": {},
   "cell_type": "markdown",
   "metadata": {},
   "source": [
    "#### Oefen mee 3.2: testconversatie\n",
    "\n",
    "De instructie in de volgende code-cel laat je meerdere vragen stellen aan de chatbot. Deze geeft telkens een antwoord. Als je \"stop\" typt, stopt deze lus. De methode vraag_een_bot komt uit het bestand **ml_bot.py**\n",
    "\n",
    "Probeer eerst eens enkele vragen te stellen die letterlijk in de trainingsdata staan. Probeer dan eens een vraag met een kleine variatie en tot slot een vraag die er absoluut niet in staat."
   ]
  },
  {
   "cell_type": "code",
   "execution_count": 11,
   "metadata": {
    "id": "a1Ndr8i-zR2Q"
   },
   "outputs": [
    {
     "name": "stdout",
     "output_type": "stream",
     "text": [
      "Zeg 'stop' om de conversatie te stoppen.\n",
      "Bye\n",
      "Prima\n",
      "Prima\n",
      "Marvin de robot\n",
      "Hi!\n",
      "Prima\n",
      "None\n"
     ]
    }
   ],
   "source": [
    "print(bot.vraag_reeks())"
   ]
  },
  {
   "attachments": {},
   "cell_type": "markdown",
   "metadata": {
    "id": "E2URWutU1T2m"
   },
   "source": [
    "Wat valt je op als je een vraag stelt die helemaal niet lijkt op iets dat in de trainingsdata staat? Hoe verschilt dit met de chatbot uit oefen mee 2.2?"
   ]
  },
  {
   "attachments": {},
   "cell_type": "markdown",
   "metadata": {},
   "source": [
    "**Antwoord:**"
   ]
  },
  {
   "attachments": {},
   "cell_type": "markdown",
   "metadata": {},
   "source": [
    "Het geeft misschien geen foutmelding. Maar het mag duidelijk zijn dat een ML chatbot trainen ook niet vanzelfzelfsprekend is."
   ]
  },
  {
   "attachments": {},
   "cell_type": "markdown",
   "metadata": {
    "id": "E2URWutU1T2m"
   },
   "source": [
    "#### Oefen mee 3.3: uitgebreide testconversatie\n",
    "- Stop de testconversatie door \"*stop*\" te typen. \n",
    "- Voeg nog eens twee vragen en antwoorden toe aan de *dictionary* conversatie en train de robot opnieuw<br> (voer de training code-cel opnieuw uit). <br>\n",
    "- Zoek 4 woorden of zinnen waarop de ChatBot deze twee nieuwe antwoorden teruggeeft."
   ]
  },
  {
   "attachments": {},
   "cell_type": "markdown",
   "metadata": {},
   "source": [
    "**Antwoord:**"
   ]
  },
  {
   "attachments": {},
   "cell_type": "markdown",
   "metadata": {},
   "source": [
    "<div style=\"background-color:#000065\"> \n",
    "    Een simpele manier om te bepalen welk antwoord het beste is, is opzoeken <b>welke vraag in de trainingsdata het meest lijkt op de vraag die gesteld is</b> en dan het bijbehorende antwoord terug te geven. Aangezien mensen hun conversaties op ettelijke manieren kunnen voeren, is dit noodzakelijk voor een goede chatbot. \n",
    "    \n",
    "</div>\n",
    "<br>\n",
    "<div style=\"background-color:#013220\">\n",
    "<b>De Levenshteinafstand</b> is een manier om kwantitatief (met getallen) vast te leggen hoeveel twee woorden op elkaar lijken. De implementatie ervan is terug te vinden in <b>ml_bot.py</b> in de methode <b>zoek_antwoord</b>.\n",
    "</div>"
   ]
  },
  {
   "attachments": {},
   "cell_type": "markdown",
   "metadata": {
    "id": "WnKOged92y7_"
   },
   "source": [
    "<div style=\"margin-bottom:-35px;\">\n",
    "    <font color=#690027 markdown=\"1\">\n",
    "        <h2>4. Hoe bepaalt de ML chatbot het \"beste\" antwoord?</h2> \n",
    "    </font>\n",
    "</div>"
   ]
  },
  {
   "attachments": {},
   "cell_type": "markdown",
   "metadata": {},
   "source": [
    "<div style=\"margin-bottom:-35px\">\n",
    "    <font color=#690027 markdown=\"1\">\n",
    "        <h3>4.1 Levenshteinafstand</h3> \n",
    "    </font>\n",
    "</div>"
   ]
  },
  {
   "attachments": {},
   "cell_type": "markdown",
   "metadata": {
    "id": "WnKOged92y7_"
   },
   "source": [
    "Zoals al aangehaald, wordt de <b>Levenshteinafstand</b> gebruikt om te bepalen welke vraag in de *dictionary* het meest lijkt op de gestelde vraag. Maar hoe werkt deze afstand? <br> <br>\n",
    "Stel dat we de woorden 'kitten' en 'koken' willen vergelijken. \n",
    "Verander steeds 1 letter tot 'kitten' aangepast is naar 'koken':\n",
    " 1. kotten en koken\n",
    " 2. koten en koken\n",
    " 3. koken en koken\n",
    "\n",
    "Er waren hier $3$ aanpassingen nodig.\n",
    "\n",
    "Omdat niet alle woorden en zinnen even lang zijn, en bv. slechts 2 aanpassingen maken in een lang woord eigenlijk een betere gelijkenis betekent dan 2 aanpassingen moeten doen in een kort woord, wordt er ook nog eens gedeeld door de lengte van het langste woord (of langste zin). Hier heeft 'kitten' 6 letters en 'koken' slechts 5, dus er wordt gedeeld door 6. Zo bekom je een afstand die geschikt is om gestelde en gekende vragen met elkaar te gaan vergelijken.\n",
    "\n",
    "De $Levenshteinafstand$ in dit voorbeeld is dus $3$ gedeeld door $6$. Oftewel $0,5$.\n",
    "\n",
    "Omdat we delen door het langste woord, is de gevonden afstand steeds een waarde tussen $0$ en $1$."
   ]
  },
  {
   "attachments": {},
   "cell_type": "markdown",
   "metadata": {},
   "source": [
    "<div style=\"margin-bottom:-35px\">\n",
    "    <font color=#690027 markdown=\"1\">\n",
    "        <h3>4.2 Antwoord selecteren</h3> \n",
    "    </font>\n",
    "</div>"
   ]
  },
  {
   "attachments": {},
   "cell_type": "markdown",
   "metadata": {},
   "source": [
    "Hoe kiest de chatbot het antwoord op een vraag?<br>\n",
    "\n",
    "De chatbot overloopt elke vraag in de trainingsdata. Het bepaalt voor iedere trainingsvraag de afstand tot de gebruikersvraag en onthoudt de trainingsvraag met de kortste afstand. Na het doorlopen van alle trainingsvragen, geeft het het antwoord terug bij de trainingsvraag met de kortste afstand.\n",
    "\n",
    "De gebruikte afstand ligt tussen $0$ en $1$.<br> $0$ betekent dat de twee teksten perfect overeenkomen en $1$ betekent dat ze volledig verschillend zijn."
   ]
  },
  {
   "attachments": {},
   "cell_type": "markdown",
   "metadata": {},
   "source": [
    "<div style=\"margin-bottom:-35px\">\n",
    "    <font color=#690027 markdown=\"1\">\n",
    "        <h3>4.2 Levenshteinafstand uitgelegd in code</h3> \n",
    "    </font>\n",
    "</div>"
   ]
  },
  {
   "attachments": {},
   "cell_type": "markdown",
   "metadata": {},
   "source": [
    "De uitleg van 4.1 is hier ook in code uitgeschreven. De code-cel gebruikt de *dictionary* vraag_en_antwoord om de besproken techniek uit te testen op de gebruikersvraag \"*Tot wiens*\", een vraag die niet in de *dictionary* staat."
   ]
  },
  {
   "cell_type": "code",
   "execution_count": 11,
   "metadata": {},
   "outputs": [
    {
     "name": "stdout",
     "output_type": "stream",
     "text": [
      "Is dit leuk? heeft afstand 0.8333333333333334 tot Tot Wiens\n",
      "Is dit saai? heeft afstand 0.8333333333333334 tot Tot Wiens\n",
      "Leer je iets? heeft afstand 0.6923076923076923 tot Tot Wiens\n",
      "Tot ziens heeft afstand 0.1111111111111111 tot Tot Wiens\n",
      "Hoe gaat het met jou? heeft afstand 0.8095238095238095 tot Tot Wiens\n",
      "-----------------------------\n",
      "Je vroeg: Tot Wiens \n",
      "Dat lijkt het meest op: 'Tot ziens' met een afstand van 0.1111111111111111\n",
      "Het antwoord van 'Tot ziens' is: Bye\n"
     ]
    }
   ],
   "source": [
    "# dictionary met vragen en overeenkomstige antwoorden\n",
    "vraag_en_antwoord = {\n",
    "                     \"Is dit leuk?\": \"ja!\",\n",
    "                     \"Is dit saai?\": \"nee!\",\n",
    "                     \"Leer je iets?\": \"Misschien\",\n",
    "                     \"Tot ziens\": \"Bye\",\n",
    "                     \"Hoe gaat het met jou?\": \"Prima\",\n",
    "                    }\n",
    "\n",
    "# De vraag van de gebruiker\n",
    "vraag = \"Tot Wiens\"\n",
    "\n",
    "kleinste_afstand = 9999\n",
    "beste_vraag = \"\"\n",
    "beste_antwoord = \"geen antwoord\"\n",
    "\n",
    "# zoek in dictionary met trainingsvragen welke het meest lijkt op de gebruikersvraag\n",
    "for trainingsvraag, antwoord in vraag_en_antwoord.items():\n",
    "    # voor elke trainingsvraag, bereken afstand tot de gebruikersvraag (Tot Wiens)\n",
    "    # Levenshteinafstand wordt voor ons bepaald in de functie distance\n",
    "    afstand = distance(trainingsvraag, vraag) / max(len(trainingsvraag), len(vraag))\n",
    "    print(f\"{trainingsvraag} heeft afstand {afstand} tot {vraag}\" )\n",
    "    \n",
    "    # als afstand van huidige trainingsvraag kleiner is dan kleinste_afstand\n",
    "    if afstand < kleinste_afstand:\n",
    "        # dan is deze afstand de nieuwe kleinste_afstand\n",
    "        kleinste_afstand = afstand\n",
    "        # dan wordt deze trainingsvraag de best overeenkomende vraag\n",
    "        beste_vraag = trainingsvraag\n",
    "\n",
    "print(\"-----------------------------\")\n",
    "\n",
    "# Print gebruikersvraag, beste_vraag en bijhorend beste_antwoord.\n",
    "print(f\"Je vroeg: {vraag} \")\n",
    "print(f\"Dat lijkt het meest op: '{beste_vraag}' met een afstand van {kleinste_afstand}\")\n",
    "print(f\"Het antwoord van '{beste_vraag}' is: {vraag_en_antwoord[beste_vraag]}\")"
   ]
  },
  {
   "attachments": {},
   "cell_type": "markdown",
   "metadata": {},
   "source": [
    "#### Oefen mee 4.1\n",
    "- Schrijf in bovenstaande codeblok de vraag \"*TOT WIENS*\" volledig in drukletters. Wat verandert dit aan de afstanden en de best gelijkende vraag?"
   ]
  },
  {
   "attachments": {},
   "cell_type": "markdown",
   "metadata": {},
   "source": [
    "**Antwoord:**"
   ]
  },
  {
   "attachments": {},
   "cell_type": "markdown",
   "metadata": {},
   "source": [
    "- Hoe zou je dit probleem kunnen verhelpen?"
   ]
  },
  {
   "attachments": {},
   "cell_type": "markdown",
   "metadata": {},
   "source": [
    "**Antwoord:**"
   ]
  },
  {
   "attachments": {},
   "cell_type": "markdown",
   "metadata": {},
   "source": [
    "#### Oefen mee 4.2\n",
    "Probeer de bovenstaande code-cel ook eens uit met een andere vraag. Gok op voorhand welke ingeleerde vraag overeenkomt met de gestelde vraag."
   ]
  },
  {
   "attachments": {},
   "cell_type": "markdown",
   "metadata": {},
   "source": [
    "**Antwoord:**"
   ]
  },
  {
   "attachments": {},
   "cell_type": "markdown",
   "metadata": {},
   "source": [
    "<div>\n",
    "    <font color=#690027 markdown=\"1\">\n",
    "        <h2>5. De Medibot</h2> \n",
    "    </font>\n",
    "</div>\n",
    "\n",
    "Nu zal je een chatbot maken met een echt nuttig doel. namelijk enkele vragen stellen aan iemand die een vaccin wil halen. De chatbot slaat automatisch de volledige conversatie op, zodat een dokter deze info later kan bekijken.\n",
    "\n",
    "Let erop dat sommige regels in `medische_conversatie` hieronder vragen zijn aan de chatbot en andere regels antwoorden op vragen van de chatbot zijn. Voor sommige antwoorden aan de chatbot zijn meerdere alternatieven voorzien."
   ]
  },
  {
   "cell_type": "code",
   "execution_count": 12,
   "metadata": {},
   "outputs": [],
   "source": [
    "# dit voorbeeld omvat een automatische vragenlijst betreffende vaccinatie\n",
    "# De items uit de dictionary zijn gerangschikt zoals de programmeur verwacht dat het gesprek zal gaan.\n",
    "medische_conversatie = {\n",
    "    \"Hallo\": \"Goeiedag, wat is uw naam?\",\n",
    "    \"Mijn naam is \": \"Wat is de code op uw vaccinatiebrief?\",\n",
    "      \"Ik heet \": \"Wat is de code op uw vaccinatiebrief?\",\n",
    "    \"Waar staat de code?\": \"De code staat rechtsboven op de brief. Wat is het cijfer?\",\n",
    "      \"Mijn code is \": \"Wilt u uw afspraak bevestigen of annuleren?\",\n",
    "      \"Mijn getal is \": \"Wilt u uw afspraak bevestigen of annuleren?\",\n",
    "    \"Annuleren\": \"Oké, bedankt voor de verwittiging. U kan altijd bellen om uw afspraak te verplaatsen.\",\n",
    "      \"Bevestigen\": \"Oké, bent u recent ziek geweest?\",\n",
    "    \"Ja\": \"Dan moet u helaas uw afspraak verplaatsen, gelieve het kantoor te bellen.\",\n",
    "      \"Neen\": \"Oké, welke medicatie neemt u? Reageer 'geen medicatie' als u geen medicatie neemt aub.\",\n",
    "    \"Geen medicatie\": \"Bedankt, ik geef het door. Een prettige dag nog.\",\n",
    "    \"Waar kan ik parkeren?\": \"Er staan pijlen naar de verschillende parkings in de buurt.\",\n",
    "                       }"
   ]
  },
  {
   "cell_type": "markdown",
   "metadata": {},
   "source": [
    "Je maakt een nieuwe chatbot die je a.d.h.v. deze trainingsdata traint."
   ]
  },
  {
   "cell_type": "code",
   "execution_count": 13,
   "metadata": {},
   "outputs": [],
   "source": [
    "medibot = ML_Chatbot(\"MediBot\")\n",
    "\n",
    "medibot.train(medische_conversatie)"
   ]
  },
  {
   "attachments": {},
   "cell_type": "markdown",
   "metadata": {},
   "source": [
    "<div style=\"background-color:#013220\">\n",
    "    Merk opnieuw op dat je opnieuw <b>Object geOriënteerd Programmeren (OOP)</b> gebruikt. <br>\n",
    "    Je maakt op basis van de <b>template ChatBot</b> een nieuw <b>object medibot</b>. Het oude <b>object bot</b> bestaat nog altijd en is dus nog steeds bruikbaar!\n",
    "</div>"
   ]
  },
  {
   "cell_type": "markdown",
   "metadata": {},
   "source": [
    "Probeer hieronder de medische chatbot eens uit. "
   ]
  },
  {
   "cell_type": "code",
   "execution_count": 24,
   "metadata": {},
   "outputs": [
    {
     "name": "stdout",
     "output_type": "stream",
     "text": [
      "Zeg 'stop' om de conversatie te stoppen.\n",
      "Goeiedag, wat is uw naam?\n",
      "Wat is de code op uw vaccinatiebrief?\n",
      "Goeiedag, wat is uw naam?\n",
      "Wilt u uw afspraak bevestigen of annuleren?\n",
      "Wilt u uw afspraak bevestigen of annuleren?\n",
      "Oké, bedankt voor de verwittiging. U kan altijd bellen om uw afspraak te verplaatsen.\n"
     ]
    }
   ],
   "source": [
    "medibot.vraag_reeks()"
   ]
  },
  {
   "attachments": {},
   "cell_type": "markdown",
   "metadata": {},
   "source": [
    "#### Oefen mee 5.1\n",
    "-  Waar reageert hij fout op?\n",
    "-  Stelt de robot alle vragen? Waarom wel of niet? Overloopt de robot alles in een logische volgorde?"
   ]
  },
  {
   "attachments": {},
   "cell_type": "markdown",
   "metadata": {},
   "source": [
    "**Antwoord:**"
   ]
  },
  {
   "attachments": {},
   "cell_type": "markdown",
   "metadata": {},
   "source": [
    "#### Oefen mee 5.2\n",
    "Denk zelf na over wat nuttige vragen kunnen zijn die de patiënt en de chatbot kunnen stellen en bedenk ook antwoorden op deze vragen. Probeer zeker zelf ook dingen uit door de *dictionary* `medische_code` uit te breiden.<br>\n",
    "Als je meerdere vragen wilt die hetzelfde antwoord geven, typ je het antwoord twee keer in, zoals reeds gedaan is met de zin '*Wat is de code op uw vaccinatiebrief?*'.<br><br>\n",
    "Train en test de chatbot nogmaals. "
   ]
  },
  {
   "attachments": {},
   "cell_type": "markdown",
   "metadata": {},
   "source": [
    "<div style=\"background-color:#8B0000\">\n",
    "    Als je de dictionary aanpast na de training, dan moet je de training opnieuw uitvoeren om de nieuwe data aan de chatbot te leren. \n",
    "</div>"
   ]
  },
  {
   "attachments": {},
   "cell_type": "markdown",
   "metadata": {},
   "source": [
    "#### Oefen mee 5.3\n",
    "Hieronder vind je een voorbeeld van een conversatie die even goed ging, maar dan de mist inging.<br>\n",
    "Waarom vond de robot geen goed antwoord? Kan je de trainingsconversatie aanpassen zodat het wel werkt?\n",
    "```\n",
    "Hallo\n",
    "> goeiedag, wat is uw naam?\n",
    "mijn naam is Stef.\n",
    "> wat is het cijfer op uw vaccinatiebrief?\n",
    "waar staat het?\n",
    "> het cijfer staat rechtsboven op de brief. wat is het cijfer?\n",
    "mijn cijfer is 123\n",
    "> Wilt u uw afspraak bevestigen of annuleren?\n",
    "bevestigen\n",
    "> Oké, bent u recent ziek geweest?\n",
    "nee hoor\n",
    "> Oké, welke medicatie neemt u? Reageer 'geen medicatie' als u geen medicatie neemt aub.\n",
    "Ik neem hoestsiroop\n",
    "> Wat is de code op uw vaccinatiebrief?\n",
    "Dat heb ik je al gezegd?\n",
    "> Er staan pijlen naar de verschillende parkings in de buurt.\n",
    "Huh?\n",
    "> Goeiedag, wat is uw naam?\n",
    "```"
   ]
  },
  {
   "attachments": {},
   "cell_type": "markdown",
   "metadata": {},
   "source": [
    "**Antwoord:**"
   ]
  },
  {
   "attachments": {},
   "cell_type": "markdown",
   "metadata": {},
   "source": [
    "## Slotvraag\n",
    "Geef 3 zaken waarmee een programmeur moet rekening houden tijdens de ontwikkeling van een Chatbot."
   ]
  },
  {
   "attachments": {},
   "cell_type": "markdown",
   "metadata": {},
   "source": [
    "**Antwoord:**"
   ]
  },
  {
   "attachments": {},
   "cell_type": "markdown",
   "metadata": {},
   "source": [
    "  <a href=\"https://www.aiopschool.be/chatbot/\"> \n",
    "        <img src=\"../_afbeeldingen/bannerugentdwengo.png\" alt=\"Dwengo\" style =\"display: block; margin-left: auto; margin-right: auto; margin-bottom: 30px; width:20%\"/>\n",
    "    </a>\n",
    "\n",
    "Deze Notebook is gebaseerd op: Notebook Chatbot, zie <a href=\"http://www.aiopschool.be\">AI Op School</a>, van S. Pletinck , F. wyffels & N. Gesquière is in licentie gegeven volgens een <a href=\"http://creativecommons.org/licenses/by-nc-sa/4.0/\">Creative Commons Naamsvermelding-NietCommercieel-GelijkDelen 4.0 Internationaal-licentie</a>. "
   ]
  }
 ],
 "metadata": {
  "colab": {
   "name": "Untitled0.ipynb",
   "provenance": []
  },
  "kernelspec": {
   "display_name": "les_venv",
   "language": "python",
   "name": "les_venv"
  },
  "language_info": {
   "codemirror_mode": {
    "name": "ipython",
    "version": 3
   },
   "file_extension": ".py",
   "mimetype": "text/x-python",
   "name": "python",
   "nbconvert_exporter": "python",
   "pygments_lexer": "ipython3",
   "version": "3.10.5"
  },
  "vscode": {
   "interpreter": {
    "hash": "c58c2aa7d0668be41d779b9c0aeac89fa7edcfbcb9dd7a969e06833ff6090700"
   }
  }
 },
 "nbformat": 4,
 "nbformat_minor": 4
}
