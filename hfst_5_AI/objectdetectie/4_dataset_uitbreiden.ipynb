{
 "cells": [
  {
   "attachments": {},
   "cell_type": "markdown",
   "metadata": {},
   "source": [
    "<div style=\"margin-bottom:-35px;\">\n",
    "    <font color=#690027 markdown=\"1\">\n",
    "        <h1> <center> Gebaseerd op een cursus van:</center> </h1> \n",
    "    </font>\n",
    "    <a href=\"https://www.aiopschool.be/chatbot/\"> \n",
    "        <img src=\"../_afbeeldingen/bannerugentdwengo.png\" alt=\"Dwengo\" style =\"display: block; margin-left: auto; margin-right: auto; margin-bottom: 30px; width:20%\"/>\n",
    "    </a>\n",
    "</div>"
   ]
  },
  {
   "attachments": {},
   "cell_type": "markdown",
   "metadata": {},
   "source": [
    "<div style=\"margin-bottom:-35px;\">\n",
    "    <font color=#690027 markdown=\"1\">\n",
    "        <h1>1. Dataset opstellen</h1> \n",
    "    </font>\n",
    "</div>"
   ]
  },
  {
   "attachments": {},
   "cell_type": "markdown",
   "metadata": {},
   "source": [
    "<div style=\"background-color:#013220\">\n",
    "Er zijn twee redenen om het YOLO-model uit te breiden:\n",
    "  <ul> \n",
    "    <li>Een nieuw object toevoegen.</li> \n",
    "    <li>De detectie-accuraatheid van een bestaand object verhogen voor jouw situatie.</li>\n",
    "  </ul>\n",
    "</div>\n",
    "\n",
    "Een eigen dataset opstellen kan door zelf veel verschillende foto's te nemen... Maar honderden (laat staan duizenden) foto's zelf maken is veel werk. Je kan ook een kleiner aantal foto's maken en deze manipuleren.  Door de afbeelding te transformeren, bijvoorbeeld door uitrekking, bijsnijden of het gebruik van een filter, ontstaan er heel wat nieuwe andere inputafbeeldingen die het model kan gebruiken. Onderstaande afbeelding toont dit proces. In deze notebook verdiep je je in deze materie. <br><br>\n",
    "<figure>\n",
    "  <img src=\"../_afbeeldingen/filters.jpg\" alt=\"Trulli\" style =\"display: block; margin-left: auto; margin-right: auto; margin-bottom: 30px; width:50%\"/>\n",
    "    <br>\n",
    "</figure>\n"
   ]
  },
  {
   "attachments": {},
   "cell_type": "markdown",
   "metadata": {},
   "source": [
    "<div style=\"margin-bottom:-35px;\">\n",
    "    <font color=#690027 markdown=\"1\">\n",
    "        <h1>2. Modules installeren en importeren</h1> \n",
    "    </font>\n",
    "</div>"
   ]
  },
  {
   "cell_type": "code",
   "execution_count": null,
   "metadata": {},
   "outputs": [],
   "source": [
    "%pip install opencv-python"
   ]
  },
  {
   "cell_type": "code",
   "execution_count": null,
   "metadata": {},
   "outputs": [],
   "source": [
    "import cv2\n",
    "import os\n",
    "from matplotlib import pyplot as plt"
   ]
  },
  {
   "attachments": {},
   "cell_type": "markdown",
   "metadata": {},
   "source": [
    "Met de code hieronder zal je een afbeelding weergeven. Deze (originele) afbeelding zal je hierna op verschillende manieren bewerken."
   ]
  },
  {
   "cell_type": "code",
   "execution_count": null,
   "metadata": {},
   "outputs": [],
   "source": [
    "def plt_imshow(title, image):\n",
    "    image = cv2.cvtColor(image, cv2.COLOR_BGR2RGB)\n",
    "    plt.imshow(image)\n",
    "    plt.title(title)\n",
    "    plt.grid(False)\n",
    "    plt.show()"
   ]
  },
  {
   "cell_type": "code",
   "execution_count": null,
   "metadata": {},
   "outputs": [],
   "source": [
    "# Let op het pad!\n",
    "tomaat = cv2.imread(\"../_afbeeldingen/tomaat.jpg\")\n",
    "plt_imshow(\"Originele afbeelding\", tomaat)\n",
    "\n",
    "print(tomaat.shape)"
   ]
  },
  {
   "attachments": {},
   "cell_type": "markdown",
   "metadata": {},
   "source": [
    "<div style=\"margin-bottom:-35px;\">\n",
    "    <font color=#690027 markdown=\"1\">\n",
    "        <h2>3. Afbeelding manipuleren</h2> \n",
    "    </font>\n",
    "</div>"
   ]
  },
  {
   "attachments": {},
   "cell_type": "markdown",
   "metadata": {},
   "source": [
    "<div style=\"margin-bottom:-35px;\">\n",
    "    <font color=#690027 markdown=\"1\">\n",
    "        <h3>3.1 Afbeelding roteren</h3> \n",
    "    </font>\n",
    "</div>"
   ]
  },
  {
   "attachments": {},
   "cell_type": "markdown",
   "metadata": {},
   "source": [
    "Je zou misschien verwachten dat `machine learning` (en dus ook `deep learning` ) gemakkelijk twee identieke afbeeldingen kan onderscheiden. Ook al is een gedraaid ten opzichte van de andere. Dit is echter niet zo! Herinner je dat een computer een afbeelding ziet als een hoop pixels. Door een foto bijvoorbeeld te roteren, verandert de volgorde van de pixels. De computer ziet dus als het ware een compleet nieuwe foto.\n",
    "\n",
    "Het model moet tomaten herkennen die in alle hoeken geroteerd zijn. Dit aangezien op een transportband de tomaten in alle richtingen kunnen liggen. Het is mogelijk om een hoop foto's te nemen van een tomaat onder verschillende hoeken. Via cv2 is dit echter heel wat makkelijker."
   ]
  },
  {
   "cell_type": "code",
   "execution_count": null,
   "metadata": {},
   "outputs": [],
   "source": [
    "tomaat_rot = cv2.rotate(tomaat, cv2.ROTATE_90_CLOCKWISE)\n",
    "plt_imshow(\"Gedraaide afbeelding\", tomaat_rot)"
   ]
  },
  {
   "attachments": {},
   "cell_type": "markdown",
   "metadata": {},
   "source": [
    "### Oefen mee 3.1\n",
    "Roteer nu zelf de foto 180 graden."
   ]
  },
  {
   "cell_type": "code",
   "execution_count": null,
   "metadata": {},
   "outputs": [],
   "source": [
    "# Roteer tomaat 180°\n",
    "tomaat_rot2 = # VUL AAN\n",
    "plt_imshow(\"Gedraaide afbeelding\", tomaat_rot2)"
   ]
  },
  {
   "attachments": {},
   "cell_type": "markdown",
   "metadata": {},
   "source": [
    "<div style=\"margin-bottom:-35px;\">\n",
    "    <font color=#690027 markdown=\"1\">\n",
    "        <h3>3.2 Afbeelding spiegelen</h3> \n",
    "    </font>\n",
    "</div>"
   ]
  },
  {
   "attachments": {},
   "cell_type": "markdown",
   "metadata": {},
   "source": [
    "Net zoals geroteerde foto's door `deep learning` niet herkend worden. Zal het spiegelen van foto's ook een **\"compleet nieuwe\"** afbeelding geven voor het algoritme."
   ]
  },
  {
   "cell_type": "code",
   "execution_count": null,
   "metadata": {},
   "outputs": [],
   "source": [
    "# 1 = horizontaal \n",
    "flippedtomaat = cv2.flip(tomaat, 1)\n",
    "plt_imshow(\"Horizontaal gespiegeld\", flippedtomaat)"
   ]
  },
  {
   "cell_type": "code",
   "execution_count": null,
   "metadata": {},
   "outputs": [],
   "source": [
    "# 0 = verticaal\n",
    "flippedtomaat2 = cv2.flip(tomaat, 0)\n",
    "plt_imshow(\"Verticaal gespiegeld\", flippedtomaat2)"
   ]
  },
  {
   "attachments": {},
   "cell_type": "markdown",
   "metadata": {},
   "source": [
    "### Oefen mee 3.2\n",
    "spiegel de foto zowel horizontaal als verticaal."
   ]
  },
  {
   "cell_type": "code",
   "execution_count": null,
   "metadata": {},
   "outputs": [],
   "source": [
    "# Spiegel verticaal en horizontaal (zoek zelf op hoe)\n",
    "flippedtomaat3 = # VUL AAN\n",
    "plt_imshow(\"Horizontaal en verticaal gespiegeld\", flippedtomaat3)"
   ]
  },
  {
   "attachments": {},
   "cell_type": "markdown",
   "metadata": {},
   "source": [
    "<div style=\"margin-bottom:-35px;\">\n",
    "    <font color=#690027 markdown=\"1\">\n",
    "        <h3>3.3 Afbeelding bijsnijden</h3> \n",
    "    </font>\n",
    "</div>"
   ]
  },
  {
   "attachments": {},
   "cell_type": "markdown",
   "metadata": {},
   "source": [
    "Ook het bijsnijden van de afbeelding heeft een effect. Zo leert het model dat de afbeelding niet altijd mooi in het midden ligt of volledig zichtbaar is. Bijvoorbeeld wanneer de tomaten nog maar net op de transportband liggen."
   ]
  },
  {
   "cell_type": "code",
   "execution_count": null,
   "metadata": {},
   "outputs": [],
   "source": [
    "# Bijsnijden van afbeelding\n",
    "# neemt foto van y tot y+h en x tot x+w\n",
    "y = 0\n",
    "x = 0\n",
    "h = 3000\n",
    "w = 2000\n",
    "tomaat_crop = tomaat[y:y+h, x:x+w]\n",
    "plt_imshow(\"Bijgesneden afbeelding\", tomaat_crop)"
   ]
  },
  {
   "attachments": {},
   "cell_type": "markdown",
   "metadata": {},
   "source": [
    "### Oefen mee 3.3\n",
    "- Deze transformatie kan ook negatieve gevolgen hebben voor de training van het model. Hoe komt dit?"
   ]
  },
  {
   "attachments": {},
   "cell_type": "markdown",
   "metadata": {},
   "source": [
    "**Antwoord:**"
   ]
  },
  {
   "attachments": {},
   "cell_type": "markdown",
   "metadata": {},
   "source": [
    "- Schrijf een stukje code dat dit probleem uitlegt met behulp van de foto *tomaat*: "
   ]
  },
  {
   "cell_type": "code",
   "execution_count": null,
   "metadata": {},
   "outputs": [],
   "source": [
    "# Probleem met bijsnijden (VUL AAN)"
   ]
  },
  {
   "attachments": {},
   "cell_type": "markdown",
   "metadata": {},
   "source": [
    "<div id=filters style=\"margin-bottom:-35px;\">\n",
    "    <font color=#690027 markdown=\"1\">\n",
    "        <h3>3.4 Filters</h3> \n",
    "    </font>\n",
    "</div>"
   ]
  },
  {
   "attachments": {},
   "cell_type": "markdown",
   "metadata": {},
   "source": [
    "Na deze basismethodes kan je ook filters aanbrengen. Dit is net hetzelfde als bij Instagram: een foto kan er heel anders uitzien met een andere filter. Er zijn filters beschikbaar in `cv2`. Maar je kan ook je eigen opstellen (zie **Filter 4**)."
   ]
  },
  {
   "cell_type": "code",
   "execution_count": null,
   "metadata": {},
   "outputs": [],
   "source": [
    "# Zet foto om naar HSV-domein, blijf wel RGB-waarden gebruiken.\n",
    "tomaat_filter1 = cv2.cvtColor(tomaat, cv2.COLOR_RGB2HSV)  \n",
    "# Zet foto om naar grijs-domein, op basis van gemiddelde RGB-waarde.\n",
    "tomaat_filter2 = cv2.cvtColor(tomaat, cv2.COLOR_RGB2GRAY)\n",
    "# Zet foto om naar LAB-domein, blijf wel RGB-waarden gebruiken.   \n",
    "tomaat_filter3 = cv2.cvtColor(tomaat, cv2.COLOR_RGB2LAB)\n",
    "plt_imshow(\"Filter 1\", tomaat_filter1) \n",
    "plt_imshow(\"Filter 2\", tomaat_filter2)\n",
    "plt_imshow(\"Filter 3\", tomaat_filter3)\n",
    "\n",
    "b, g, r = cv2.split(tomaat)\n",
    "tomaat_filter4 = cv2.merge([r, g, b]) # Wissel de blauw en rood waarden van de foto om.\n",
    "plt_imshow(\"Filter 4\", tomaat_filter4)"
   ]
  },
  {
   "attachments": {},
   "cell_type": "markdown",
   "metadata": {},
   "source": [
    "### Oefen mee 3.4\n",
    "Waarom zou het gebruik van filters interessant kunnen zijn bij de trainingsset van het algoritme?"
   ]
  },
  {
   "attachments": {},
   "cell_type": "markdown",
   "metadata": {},
   "source": [
    "**Antwoord:**"
   ]
  },
  {
   "attachments": {},
   "cell_type": "markdown",
   "metadata": {},
   "source": [
    "<div style=\"margin-bottom:-35px;\">\n",
    "    <font color=#690027 markdown=\"1\">\n",
    "        <h3>3.5 Afbeelding wazig maken</h3> \n",
    "    </font>\n",
    "</div>"
   ]
  },
  {
   "attachments": {},
   "cell_type": "markdown",
   "metadata": {},
   "source": [
    "Om ervoor te zorgen dat het algoritme ook in niet ideale omstandigheden werkt, kan je een filter toepassen die de afbeelding wazig maakt. Zo is het mogelijk dat een input afbeelding zonder optimaal beeld toch gedetecteerd wordt. Er zijn verschillende redenen waarom dit handig is.\n",
    "\n",
    " - Een transportband heeft een bepaalde snelheid. Doordat dus ook de tomaten aan een bepaalde snelheid voor de camera passeren, kan dit tot wazige afbeeldingen leiden.\n",
    " - Ook als de transportband in een andere ruimte wordt geplaatst waar de lichtinval een beetje anders is, moet het algoritme zijn werk kunnen doen. \n",
    " \n",
    "Net als filters, bezit `cv2` een aantal manieren om afbeeldingen wazig te maken (dit zijn eigenlijk ook een soort filters)."
   ]
  },
  {
   "cell_type": "code",
   "execution_count": null,
   "metadata": {},
   "outputs": [],
   "source": [
    "tomaten = cv2.imread(\"../_afbeeldingen/tomaten.jpg\")\n",
    "plt_imshow(\"Originele afbeelding\", tomaten)\n",
    "\n",
    "tomaten_wazig = cv2.GaussianBlur(tomaten, (35,35), cv2.BORDER_DEFAULT)\n",
    "plt_imshow(\"Geblurde afbeelding\", tomaten_wazig)"
   ]
  },
  {
   "attachments": {},
   "cell_type": "markdown",
   "metadata": {},
   "source": [
    "<div style=\"margin-bottom:-35px;\">\n",
    "    <font color=#690027 markdown=\"1\">\n",
    "        <h2>4. Afbeelding manipuleren en opslaan</h2> \n",
    "    </font>\n",
    "</div>"
   ]
  },
  {
   "attachments": {},
   "cell_type": "markdown",
   "metadata": {},
   "source": [
    "<div style=\"margin-bottom:-35px;\">\n",
    "    <font color=#690027 markdown=\"1\">\n",
    "        <h3>4.1 Afbeelding opslaan</h3> \n",
    "    </font>\n",
    "</div>"
   ]
  },
  {
   "attachments": {},
   "cell_type": "markdown",
   "metadata": {},
   "source": [
    "Na een afbeelding te manipuleren, willen we deze natuurlijk ook opslaan. Dit kan via de `cv2` functie `imwrite`."
   ]
  },
  {
   "cell_type": "code",
   "execution_count": null,
   "metadata": {},
   "outputs": [],
   "source": [
    "# Inlezen afbeelding\n",
    "tomaat = cv2.imread(\"../_afbeeldingen/tomaat.jpg\")\n",
    "\n",
    "# Roteren afbeelding\n",
    "tomaat_rot2 = cv2.rotate(tomaat, cv2.ROTATE_180)\n",
    "\n",
    "# Opslaan van geroteerde afbeelding (Geef een unieke naam!)\n",
    "cv2.imwrite(filename='tomaat_rot180.jpg', img=tomaat_rot2)"
   ]
  },
  {
   "attachments": {},
   "cell_type": "markdown",
   "metadata": {},
   "source": [
    "De foto **tomaat_rot180.jpg** is nu aangemaakt op de locatie van de notebook. Je kan het pad (van de parameter **filename**) echter uitbreiden om deze op een andere locatie te zetten. Dit werkt hetzelfde als CSV- en JSON-bestanden. "
   ]
  },
  {
   "attachments": {},
   "cell_type": "markdown",
   "metadata": {},
   "source": [
    "### Oefen mee 4.1\n",
    "Zorg ervoor dat de afbeelding `tomaat_rot180.jpg` wordt aangemaakt in de map **_afbeeldingen**."
   ]
  },
  {
   "cell_type": "code",
   "execution_count": null,
   "metadata": {},
   "outputs": [],
   "source": [
    "# Inlezen afbeelding\n",
    "tomaat = cv2.imread(\"../_afbeeldingen/tomaat.jpg\")\n",
    "# Roteren afbeelding\n",
    "tomaat_rot2 = cv2.rotate(tomaat, cv2.ROTATE_180)\n",
    "\n",
    "# Opslaan van geroteerde afbeelding (Geef een unieke naam!)\n",
    "pad = r\"\" # VUL AAN (gebruik r\"\" bij ingeven absoluut pad)\n",
    "cv2.imwrite(filename=f'{pad}/tomaat_rot180.jpg', img=tomaat_rot2)"
   ]
  },
  {
   "attachments": {},
   "cell_type": "markdown",
   "metadata": {},
   "source": [
    "<div style=\"margin-bottom:-35px;\">\n",
    "    <font color=#690027 markdown=\"1\">\n",
    "        <h3>4.2 Alle afbeeldingen in een folder overlopen</h3> \n",
    "    </font>\n",
    "</div>"
   ]
  },
  {
   "attachments": {},
   "cell_type": "markdown",
   "metadata": {},
   "source": [
    "We willen liefst alle bestanden in een keer overlopen, manipuleren en opslaan. Alle JPG's en PNG's uit een folder halen kan als volgt."
   ]
  },
  {
   "cell_type": "code",
   "execution_count": null,
   "metadata": {},
   "outputs": [],
   "source": [
    "pad = r\"../_afbeeldingen/\" # Locatie met te bewerken afbeeldingen\n",
    "folder = os.listdir(pad) \n",
    "for index, bestand in enumerate(folder):\n",
    "    if (\".png\" in bestand) or (\".jpg\" in bestand): # We werken enkel met png- of jpg-bestanden.\n",
    "        print(f\"Bestand {index+1}: {bestand}\")"
   ]
  },
  {
   "attachments": {},
   "cell_type": "markdown",
   "metadata": {},
   "source": [
    "### Oefen mee 4.2"
   ]
  },
  {
   "attachments": {},
   "cell_type": "markdown",
   "metadata": {},
   "source": [
    "Open de map **verwerken**. Erin zitten 3 afbeeldingen (vormen.png, katten.png, schaal.png):\n",
    "- Overloop deze afbeeldingen door gebruik te maken van **os.listdir**<br>\n",
    "(print eerst de namen om te controleren dat je op de correcte plaats zit);\n",
    "- Verwerk de drie afbeeldingen op een aantal manieren:\n",
    "    1. Roteer iedere afbeelding met 270°.\n",
    "    2. Spiegel iedere afbeelding verticaal.\n",
    "    3. Maak iedere afbeelding wazig.\n",
    "- Sla iedere verwerkte afbeelding op in een bestand. Op deze locatie als de originele foto. Gebruik logische namen zoals:\n",
    "  - vormen_rot.png\n",
    "  - vormen_spiegel.png\n",
    "  - vormen_filter.png"
   ]
  },
  {
   "cell_type": "code",
   "execution_count": null,
   "metadata": {},
   "outputs": [],
   "source": [
    "pad = r\"verwerken\" # pad naar de map verwerken\n",
    "folder = os.listdir(pad) # Alle bestanden in de map\n",
    "for index, bestand in enumerate(folder):\n",
    "    # Sla bestanden over die geen PNG-afbeeldingen zijn\n",
    "    if (\".png\" not in bestand):\n",
    "        continue\n",
    "    # Bepaal naam zonder extensie + Inladen in Python\n",
    "    naam = bestand.replace(\".png\",\"\")\n",
    "    afbeelding = cv2.imread(f'{pad}/{bestand}')\n",
    "\n",
    "    # Roteer afbeelding en sla op\n",
    "    foto_rot = cv2.rotate(afbeelding, cv2.ROTATE_90_CLOCKWISE)\n",
    "    cv2.imwrite(filename=f'{pad}/{naam}_rot.png', img=foto_rot)\n",
    "\n",
    "    # VUL AAN voor spiegel + filter"
   ]
  },
  {
   "attachments": {},
   "cell_type": "markdown",
   "metadata": {},
   "source": [
    "Als je dit correct doet, moet de map nu 12 afbeelding bevatten. Je kan deze code (na licht aanpassen) ook gebruiken om de foto's van het YOLO-model te manipuleren."
   ]
  },
  {
   "attachments": {},
   "cell_type": "markdown",
   "metadata": {},
   "source": [
    "<div style=\"background-color:#8B0000\"> \n",
    "De naam van verwerkte afbeelding is best gebaseerd op de naam van het originele bestand. Als de originele afbeelding \"hond\" heet, dan noem je de geroteerde dus \"hond_rot\". \n",
    "</div>"
   ]
  },
  {
   "attachments": {},
   "cell_type": "markdown",
   "metadata": {},
   "source": [
    "  <a href=\"https://www.aiopschool.be/dwengo/\"> \n",
    "        <img src=\"../_afbeeldingen/bannerugentdwengo.png\" alt=\"Dwengo\" style =\"display: block; margin-left: auto; margin-right: auto; margin-bottom: 30px; width:20%\"/>\n",
    "    </a>\n",
    "\n",
    "Deze Notebook is gebaseerd op: Notebook AI in de landbouw, zie <a href=\"http://www.aiopschool.be\">AI Op School</a>, van M. Benoit, F. wyffels & N. Gesquière is in licentie gegeven volgens een <a href=\"http://creativecommons.org/licenses/by-nc-sa/4.0/\">Creative Commons Naamsvermelding-NietCommercieel-GelijkDelen 4.0 Internationaal-licentie</a>. "
   ]
  }
 ],
 "metadata": {
  "kernelspec": {
   "display_name": "les_venv",
   "language": "python",
   "name": "les_venv"
  },
  "language_info": {
   "codemirror_mode": {
    "name": "ipython",
    "version": 3
   },
   "file_extension": ".py",
   "mimetype": "text/x-python",
   "name": "python",
   "nbconvert_exporter": "python",
   "pygments_lexer": "ipython3",
   "version": "3.10.5"
  }
 },
 "nbformat": 4,
 "nbformat_minor": 4
}
