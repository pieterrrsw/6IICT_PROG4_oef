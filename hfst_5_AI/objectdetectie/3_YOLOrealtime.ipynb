{
 "cells": [
  {
   "attachments": {},
   "cell_type": "markdown",
   "metadata": {},
   "source": [
    "<div style=\"margin-bottom:-35px;\">\n",
    "    <font color=#690027 markdown=\"1\">\n",
    "        <h1> <center> Gebaseerd op een cursus van:</center> </h1> \n",
    "    </font>\n",
    "    <a href=\"https://www.aiopschool.be/chatbot/\"> \n",
    "        <img src=\"../_afbeeldingen/bannerugentdwengo.png\" alt=\"Dwengo\" style =\"display: block; margin-left: auto; margin-right: auto; margin-bottom: 30px; width:20%\"/>\n",
    "    </a>\n",
    "</div>"
   ]
  },
  {
   "attachments": {},
   "cell_type": "markdown",
   "metadata": {},
   "source": [
    "<div style=\"background-color:#013220\">\n",
    "In deze Notebook probeer je YOLO in het echt uit. Er wordt ook opnieuw gewezen op het belang van een goede dataset. \n",
    "</div>"
   ]
  },
  {
   "attachments": {},
   "cell_type": "markdown",
   "metadata": {},
   "source": [
    "<div style=\"margin-bottom:-35px;\">\n",
    "    <font color=#690027 markdown=\"1\">\n",
    "        <h2>1. Belang van een goede dataset</h2> \n",
    "    </font>\n",
    "</div>"
   ]
  },
  {
   "attachments": {},
   "cell_type": "markdown",
   "metadata": {},
   "source": [
    "Er is altijd een `dataset (= voorbeelden)` nodig waarop het model getraind wordt. Deze dataset is essentieel voor een goed werkend model; het model haalt uit deze datatset zijn info om objecten te kunnen herkennen. Deze dataset moet nauwkeurig samengesteld worden, want een `ongevarieerde dataset kan leiden tot fouten bij het herkennen van de objecten.`"
   ]
  },
  {
   "attachments": {},
   "cell_type": "markdown",
   "metadata": {},
   "source": [
    "<div style=\"background-color:#013220\">\n",
    "Zo werd er een model getraind dat een wolf van een husky kon onderscheiden.\n",
    "Hoewel wolven en huskies op elkaar lijken, leek het algoritme toch een 90 % nauwkeurigheid te hebben. Tot er een foto van een wolf met sneeuw op de achtergrond werd gebruikt en het algoritme hem classificeerde als husky. Al snel werd duidelijk dat het algoritme zo een goede resultaten haalde, omdat het zich baseerde op de achtergrond. Er werd dus een <b>sneeuwdetector</b> gemaakt in de plaats van een <b>husky versus wolf detector</b>.<br><br>\n",
    "    <figure>\n",
    "  <img src=\"../_afbeeldingen/wolfhusky.jpg\" style =\"display: block; margin-left: auto; margin-right: auto; margin-bottom: 30px; width:60%\"/>\n",
    "    </figure>\n",
    "\n",
    "Om zulke fouten te vermijden heb je een dataset nodig met objecten op zoveel mogelijk verschillende plaatsen en achtergronden. Voor de training van het YOLO-model werden al heel wat van die gevarieerde datasets gebruikt. Toch is YOLO verre van perfect.\n",
    "</div>"
   ]
  },
  {
   "attachments": {},
   "cell_type": "markdown",
   "metadata": {},
   "source": [
    "<div style=\"margin-bottom:-35px;\">\n",
    "    <font color=#690027 markdown=\"1\">\n",
    "        <h1>2. Modules installeren en importeren</h1> \n",
    "    </font>\n",
    "</div>"
   ]
  },
  {
   "cell_type": "markdown",
   "metadata": {},
   "source": [
    "### Modules installeren en inladen"
   ]
  },
  {
   "attachments": {},
   "cell_type": "markdown",
   "metadata": {},
   "source": [
    "Voer de cel hieronder uit om de bibliotheek `opencv` te installeren; dit is een belangrijke bibliotheek binnen de beeldverwerking. "
   ]
  },
  {
   "cell_type": "code",
   "execution_count": null,
   "metadata": {},
   "outputs": [],
   "source": [
    "%pip install opencv-python"
   ]
  },
  {
   "attachments": {},
   "cell_type": "markdown",
   "metadata": {},
   "source": [
    "Alle modules die je voor deze Notebook nodig zal hebben."
   ]
  },
  {
   "cell_type": "code",
   "execution_count": null,
   "metadata": {},
   "outputs": [],
   "source": [
    "# inladen nodige modules.\n",
    "import cv2\n",
    "import numpy as np\n",
    "import matplotlib.pyplot as plt\n",
    "\n",
    "from detectie import open_camera, yolo_verwerking, realtime, get_camera_src"
   ]
  },
  {
   "attachments": {},
   "cell_type": "markdown",
   "metadata": {},
   "source": [
    "<div style=\"margin-bottom:-35px;\">\n",
    "    <font color=#690027 markdown=\"1\">\n",
    "        <h2>3. Camera gebruik</h2> \n",
    "    </font>\n",
    "</div>"
   ]
  },
  {
   "attachments": {},
   "cell_type": "markdown",
   "metadata": {},
   "source": [
    "Je zal met een camera objecten in beeld brengen en deze objecten laten detecteren en classificeren met het YOLO-algoritme.\n",
    "Je kan hiervoor de webcam van je laptop gebruiken of de camera van een smartphone."
   ]
  },
  {
   "attachments": {},
   "cell_type": "markdown",
   "metadata": {},
   "source": [
    "<div style=\"margin-bottom:-35px;\">\n",
    "    <font color=#690027 markdown=\"1\">\n",
    "        <h3>3.1 Laptopcamera</h3> \n",
    "    </font>\n",
    "</div>"
   ]
  },
  {
   "attachments": {},
   "cell_type": "markdown",
   "metadata": {},
   "source": [
    "Hiervoor hoef je niets te installeren. Ga verder naar <a href=\"#YOLO\"><b>4. YOLO-algoritme gebruiken</b></a>."
   ]
  },
  {
   "attachments": {},
   "cell_type": "markdown",
   "metadata": {},
   "source": [
    "<div style=\"margin-bottom:-35px;\">\n",
    "    <font color=#690027 markdown=\"1\">\n",
    "        <h3>3.2 Smartphonecamera </h3> \n",
    "    </font>\n",
    "</div>"
   ]
  },
  {
   "attachments": {},
   "cell_type": "markdown",
   "metadata": {},
   "source": [
    "Je kan gebruikmaken van de camera van een smartphone via de app `droidcam`. Installeer de app op de smartphone via de appstore.<br> Op de computer installeer je de `droidcam client`, dit kan via volgende link:<br> https://droidcam-client.en.uptodown.com/windows/download.<br><br>\n",
    "Als de droidcam client opent, krijg je volgend scherm te zien:<br><br>\n",
    "<figure>\n",
    "  <img src=\"../_afbeeldingen/droidcam.jpg\" style =\"display: block; margin-left: auto; margin-right: auto; margin-bottom: 30px; width:30%\">\n",
    "</figure><br>\n",
    "Vul het gevraagde in aan de hand van de gegevens op de app op de smartphone (<b>IP en poort</b>) en klik op 'Start'. <br><br>\n",
    "Ga vervolgens in de Chrome-browser naar instellingen en kies daar voor:<br>\n",
    "<center><b>Beveiliging en privacy > Site-instellingen > Camera.</b></center> <br>    Met behulp van het pijltje kan je nu een droidcam source kiezen als camera. \n",
    "</div>"
   ]
  },
  {
   "attachments": {},
   "cell_type": "markdown",
   "metadata": {},
   "source": [
    "<div id=\"YOLO\" style=\"margin-bottom:-35px;\">\n",
    "    <font color=#690027 markdown=\"1\">\n",
    "        <h2>4. YOLO-algoritme toepassen op foto</h2> \n",
    "    </font>\n",
    "</div>"
   ]
  },
  {
   "attachments": {},
   "cell_type": "markdown",
   "metadata": {},
   "source": [
    "Voer onderstaande functie `get_camera_src` uit. De nummers duiden de camera's aan die op de laptop gedetecteerd zijn."
   ]
  },
  {
   "cell_type": "code",
   "execution_count": null,
   "metadata": {},
   "outputs": [],
   "source": [
    "print(get_camera_src())"
   ]
  },
  {
   "attachments": {},
   "cell_type": "markdown",
   "metadata": {},
   "source": [
    "Voer de functie `open_camera` in onderstaande code-blok uit, om een camera naar keuze te openen.\n",
    "- Druk op `s`: om een foto op te slaan in een bestand **afbeelding_camera.jpg**.\n",
    "- Druk op `q`: om de camera te sluiten.\n",
    "\n",
    "\n",
    "\n",
    "<div style=\"background-color:#8B0000\"> \n",
    "Kies een camera-nummer uit de bovenaan bekomen lijst. Meestal is dit 0.\n",
    "</div>\n",
    "\n",
    "Als je een goede foto hebt, kan je deze verwerken via de functie `yolo_verwerking` in het tweede code-blok."
   ]
  },
  {
   "cell_type": "code",
   "execution_count": null,
   "metadata": {},
   "outputs": [],
   "source": [
    "open_camera(0)"
   ]
  },
  {
   "cell_type": "code",
   "execution_count": null,
   "metadata": {},
   "outputs": [],
   "source": [
    "yolo_verwerking(\"afbeelding_camera.jpg\")"
   ]
  },
  {
   "attachments": {},
   "cell_type": "markdown",
   "metadata": {},
   "source": [
    "### Oefen mee 4.1"
   ]
  },
  {
   "cell_type": "markdown",
   "metadata": {},
   "source": [
    "-  Welke objecten worden door het algoritme juist gedetecteerd? "
   ]
  },
  {
   "attachments": {},
   "cell_type": "markdown",
   "metadata": {},
   "source": [
    "**Antwoord:**"
   ]
  },
  {
   "cell_type": "markdown",
   "metadata": {},
   "source": [
    "- Welke objecten worden door het algoritme niet of onjuist gedetecteerd? "
   ]
  },
  {
   "attachments": {},
   "cell_type": "markdown",
   "metadata": {},
   "source": [
    "**Antwoord:**"
   ]
  },
  {
   "attachments": {},
   "cell_type": "markdown",
   "metadata": {},
   "source": [
    "<div id=\"YOLO\" style=\"margin-bottom:-35px;\">\n",
    "    <font color=#690027 markdown=\"1\">\n",
    "        <h2>5. Objecten van het YOLO-algoritme </h2> \n",
    "    </font>\n",
    "</div>"
   ]
  },
  {
   "attachments": {},
   "cell_type": "markdown",
   "metadata": {},
   "source": [
    "Het YOLO-algoritme maakt gebruik van een uitgebreide dataset, maar in die dataset zitten natuurlijk niet alle objecten die op de wereld te vinden zijn. Dit is onmogelijk. Voor het YOLO-algoritme werd een dataset opgebouwd waarin een beperkt aantal objecten van verschillende categorieën inzitten."
   ]
  },
  {
   "cell_type": "markdown",
   "metadata": {},
   "source": [
    "De volgende objecten kunnen door het algoritme gedetecteerd worden: <br><br>\n",
    "<div style=\"float: left; width: 15%\"> \n",
    "    <ul>\n",
    "        <li>persoon</li>\n",
    "        <li>fiets</li>\n",
    "        <li>auto</li>\n",
    "        <li>motor</li>\n",
    "        <li>vliegtuig</li>\n",
    "        <li>bus</li>\n",
    "        <li>trein</li>\n",
    "        <li>vrachtwagen</li>\n",
    "        <li>boot</li>\n",
    "        <li>plant</li>\n",
    "        <li>bed</li>\n",
    "        <li>eettafel</li>\n",
    "        <li>toaster</li>\n",
    "        <li>tandenborstel</li>\n",
    "    </ul>\n",
    "</div>\n",
    "<div style=\"float: left; width: 15%;\">\n",
    "    <ul>\n",
    "        <li>vogel</li>\n",
    "        <li>kat</li>\n",
    "        <li>hond</li>\n",
    "        <li>paard</li>\n",
    "        <li>schaap</li>\n",
    "        <li>koe</li>\n",
    "        <li>olifant</li>\n",
    "        <li>beer</li>\n",
    "        <li>zebra</li>\n",
    "        <li>giraf</li>\n",
    "        <li>vaas</li>\n",
    "        <li>schaar</li>\n",
    "        <li>wasbak</li>\n",
    "        <li>teddybeer</li>\n",
    "    </ul>\n",
    "</div>\n",
    "<div style=\"float: left; width: 15%;\">\n",
    "    <ul>\n",
    "        <li>stoplicht</li>\n",
    "        <li>brandkraan</li>\n",
    "        <li>stopbord</li>\n",
    "        <li>parkeermeter</li>\n",
    "        <li>bank</li>\n",
    "        <li>rugzak</li>\n",
    "        <li>paraplu</li>\n",
    "        <li>handtas</li>\n",
    "        <li>das</li>\n",
    "        <li>koffer</li>\n",
    "        <li>frisbee</li>\n",
    "        <li>ski's</li>\n",
    "        <li>koelkast</li>\n",
    "    </ul>\n",
    "</div>\n",
    "<div style=\"float: right; width: 25%;\">\n",
    "    <ul>\n",
    "        <li>snowboard</li>\n",
    "        <li>sportbal</li>\n",
    "        <li>kite</li>\n",
    "        <li>baseballbat</li>\n",
    "        <li>baseballhandschoen</li>\n",
    "        <li>skateboard</li>\n",
    "        <li>surfboard</li>\n",
    "        <li>tennisracket</li>\n",
    "        <li>fles</li>\n",
    "        <li>wijnglas</li>\n",
    "        <li>hotdog</li>\n",
    "        <li>pizza</li>\n",
    "        <li>boek</li>\n",
    "    </ul>\n",
    "</div>\n",
    "<div style=\"float: right; width: 15%;\">\n",
    "    <ul>\n",
    "        <li>glas</li>\n",
    "        <li>vork</li>\n",
    "        <li>mes</li>\n",
    "        <li>lepel</li>\n",
    "        <li>kom</li>\n",
    "        <li>banaan</li>\n",
    "        <li>appel</li>\n",
    "        <li>sandwich</li>\n",
    "        <li>appelsien</li>\n",
    "        <li>broccoli</li>\n",
    "        <li>wortel</li>\n",
    "        <li>donut</li>\n",
    "        <li>klok</li>\n",
    "    </ul>\n",
    "</div>\n",
    "<div style=\"float: right; width: 15%;\">\n",
    "    <ul>\n",
    "        <li>cake</li>\n",
    "        <li>stoel</li>\n",
    "        <li>sofa</li>\n",
    "        <li>toilet</li>\n",
    "        <li>tvmonitor</li>\n",
    "        <li>laptop</li>\n",
    "        <li>muis</li>\n",
    "        <li>afstandbediening</li>\n",
    "        <li>toetsenbord</li>\n",
    "        <li>gsm</li>\n",
    "        <li>microgolfoven</li>\n",
    "        <li>oven</li>\n",
    "        <li>haardroger</li>\n",
    "    </ul>\n",
    "</div>\n",
    "</div>"
   ]
  },
  {
   "attachments": {},
   "cell_type": "markdown",
   "metadata": {},
   "source": [
    "### Oefen mee 5.1"
   ]
  },
  {
   "cell_type": "markdown",
   "metadata": {},
   "source": [
    "- Kijk nu of de objecten die je voorheen niet kon detecteren in het lijstje staan. Is er een object dat in het lijstje staat en toch niet gedetecteerd kon worden? "
   ]
  },
  {
   "attachments": {},
   "cell_type": "markdown",
   "metadata": {},
   "source": [
    "**Antwoord:**"
   ]
  },
  {
   "attachments": {},
   "cell_type": "markdown",
   "metadata": {},
   "source": [
    "-  Indien ja, hoe denk je dat dit komt? Indien nee, kan je een situatie bedenken waarin dit zal voorkomen?"
   ]
  },
  {
   "attachments": {},
   "cell_type": "markdown",
   "metadata": {},
   "source": [
    "**Antwoord:**"
   ]
  },
  {
   "attachments": {},
   "cell_type": "markdown",
   "metadata": {},
   "source": [
    "<div style=\"background-color:#000065\"> \n",
    "Er zijn verschillende redenen waarom een object niet goed gedetecteerd kan worden. De lichtinval is bv. belangrijk: als de foto over- of onderbelicht is, kan het algoritme minder goed werken. <br>\n",
    "\n",
    "Je weet reeds dat de computer een afbeelding ziet als een raster van pixels. Als de belichting anders is, zullen deze pixels niet dezelfde kleurwaarde hebben als deze van de **dataset**, waardoor het algoritme problemen ondervindt. \n",
    "\n",
    "Zoals je hebt gezien in de inleiding, kan de achtergrond ook een grote rol spelen. \n",
    "\n",
    "Er kunnen dus heel wat problemen ontstaan zijn bij het detecteren van een foto. Dit benadrukt dus nogmaals de noodzaak van een **uitgebreide en gevarieerde dataset**. \n",
    "</div>"
   ]
  },
  {
   "attachments": {},
   "cell_type": "markdown",
   "metadata": {},
   "source": [
    "### Oefen mee 5.2\n",
    "-  Werd een object uit bovenstaande lijst niet herkend, voer dan het experiment nogmaals uit met hetzelfde object, maar met een andere foto. Je zal zien dat in de meeste gevallen het object met een goede foto nu wel juist gedetecteerd wordt. "
   ]
  },
  {
   "cell_type": "markdown",
   "metadata": {},
   "source": [
    "Hieruit blijkt dus dat een algoritme nog zo goed kan zijn ... als de omstandigheden waarin de inputfoto wordt genomen niet optimaal zijn, zal het algoritme ook minder goed functioneren."
   ]
  },
  {
   "attachments": {},
   "cell_type": "markdown",
   "metadata": {},
   "source": [
    "<div id=\"YOLO\" style=\"margin-bottom:-35px;\">\n",
    "    <font color=#690027 markdown=\"1\">\n",
    "        <h2>6. YOLO-algoritme in realtime</h2> \n",
    "    </font>\n",
    "</div>"
   ]
  },
  {
   "attachments": {},
   "cell_type": "markdown",
   "metadata": {},
   "source": [
    "Tenslotte kunnen we het algoritme in realtime objectdetectie laten uitvoeren. Voer onderstaande code-blok uit. Je kan deze stoppen via de knop **q**.\n",
    "- De eerste parameter is de **camera** (0, 1, 2, ...). \n",
    "- De tweede parameter is het **yolo-model** ('normal' of 'tiny), hier zodalijk meer info over."
   ]
  },
  {
   "cell_type": "code",
   "execution_count": null,
   "metadata": {},
   "outputs": [],
   "source": [
    "realtime(0, 'normal')"
   ]
  },
  {
   "attachments": {},
   "cell_type": "markdown",
   "metadata": {},
   "source": [
    "Je zal merken dat realtime niet erg snel, maximaal 5 FPS. De reden hiervoor is dat YOLO afbeeldingen verwerkt met de CPU van de computer. CPU's zijn hier niet voor geschikt, we zouden eigenlijk een GPU (Graphical Processing Unit) moeten gebruiken. Een laptop met ingebouwde GPU is echter vrij duur.\n",
    "\n",
    "Verander het argument `normal` naar `tiny`. We gebruiken nu het model `yolov3_tiny` in plaats van `yolov3`. Dit model zal de afbeeldingen minder verwerken vooral ze objecten te detecteren. Gevolg is dat de snelheid verhoogt."
   ]
  },
  {
   "attachments": {},
   "cell_type": "markdown",
   "metadata": {},
   "source": [
    "### Oefen mee 6.1\n",
    "- Vergelijk de grootte van yolov3.weights en yolov3_tiny.weights. Wat merk je op?\n",
    "\n",
    "**Antwoord:**\n",
    "\n",
    "- Welke verschillen merk je tussen yolov3_tiny en yolov3?\n",
    "\n",
    "**Antwoord:**"
   ]
  },
  {
   "attachments": {},
   "cell_type": "markdown",
   "metadata": {},
   "source": [
    "  <a href=\"https://www.aiopschool.be/dwengo/\"> \n",
    "        <img src=\"../_afbeeldingen/bannerugentdwengo.png\" alt=\"Dwengo\" style =\"display: block; margin-left: auto; margin-right: auto; margin-bottom: 30px; width:20%\"/>\n",
    "    </a>\n",
    "\n",
    "Deze Notebook is gebaseerd op: Notebook AI in de landbouw, zie <a href=\"http://www.aiopschool.be\">AI Op School</a>, van M. Benoit, F. wyffels & N. Gesquière is in licentie gegeven volgens een <a href=\"http://creativecommons.org/licenses/by-nc-sa/4.0/\">Creative Commons Naamsvermelding-NietCommercieel-GelijkDelen 4.0 Internationaal-licentie</a>. "
   ]
  }
 ],
 "metadata": {
  "kernelspec": {
   "display_name": "les_venv",
   "language": "python",
   "name": "les_venv"
  },
  "language_info": {
   "codemirror_mode": {
    "name": "ipython",
    "version": 3
   },
   "file_extension": ".py",
   "mimetype": "text/x-python",
   "name": "python",
   "nbconvert_exporter": "python",
   "pygments_lexer": "ipython3",
   "version": "3.10.5"
  }
 },
 "nbformat": 4,
 "nbformat_minor": 4
}
