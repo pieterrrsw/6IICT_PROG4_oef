{
 "cells": [
  {
   "attachments": {},
   "cell_type": "markdown",
   "metadata": {},
   "source": [
    "<div style=\"margin-bottom:-35px;\">\n",
    "    <font color=#690027 markdown=\"1\">\n",
    "        <h1> <center> Gebaseerd op een cursus van:</center> </h1> \n",
    "    </font>\n",
    "    <a href=\"https://www.aiopschool.be/chatbot/\"> \n",
    "        <img src=\"../_afbeeldingen/bannerugentdwengo.png\" alt=\"Dwengo\" style =\"display: block; margin-left: auto; margin-right: auto; margin-bottom: 30px; width:20%\"/>\n",
    "    </a>\n",
    "</div>"
   ]
  },
  {
   "attachments": {},
   "cell_type": "markdown",
   "metadata": {},
   "source": [
    "<div style=\"margin-bottom:-35px;\">\n",
    "    <font color=#690027 markdown=\"1\">\n",
    "            <h1>1. Wat is YOLO?</h1> \n",
    "    </font>\n",
    "</div>"
   ]
  },
  {
   "attachments": {},
   "cell_type": "markdown",
   "metadata": {},
   "source": [
    "`YOLO` is een afkorting voor \"You Only Look Once\". Een populaire Deep Learning detectie-model. Het is populair omwille van zijn snelheid. Mensen kunnen in `real-time objecten detecteren`. Dit in vergelijking met andere algoritmes als `R-FCN`.\n",
    "\n",
    "Andere algoritmes werken in 2 stappen: \n",
    "- Eerst zoeken ze regio's waar mogelijks objecten staan (en zetten hier een kader rond). \n",
    "- Vervolgens detecteren ze welk object in deze regio aanwezig is. \n",
    "\n",
    "YOLO doet deze twee stappen tegelijk. Dit is sneller, maar leidt wel tot fouten, waardoor de accuraatheid van YOLO lager is. Onderstaande grafiek geeft dit duidelijk weer. De X-as toont de snelheid van detectie, de Y-as accuraatheid.\n",
    "\n",
    "<img src=\"../_afbeeldingen/yolo.png\" alt=\"Dwengo\" style =\"display: block; margin-left: auto; margin-right: auto; margin-bottom: 30px; width:40%\"/>"
   ]
  },
  {
   "attachments": {},
   "cell_type": "markdown",
   "metadata": {},
   "source": [
    "<div style=\"margin-bottom:-35px;\">\n",
    "    <font color=#690027 markdown=\"1\">\n",
    "            <h1>2. Hoe herkennen DL-algoritmes objecten?</h1> \n",
    "    </font>\n",
    "</div>"
   ]
  },
  {
   "attachments": {},
   "cell_type": "markdown",
   "metadata": {},
   "source": [
    "Je snapt nu waarom we YOLO gebruiken. Maar hoe weet YOLO (en ook andere DL-modellen) dat een collectie van pixels bijvoorbeeld een kat of een hond is? DL-modellen baseren zich op de werking van het menselijk brein. De vraag is dus eigenlijk:<br> `Hoe leert een brein het verschil tussen een kat en een hond?`\n",
    "\n",
    "Het antwoord is **oefenen**. We geven YOLO een hoop voorbeelden. In dit geval afbeeldingen. Bij iedere afbeelding schrijven we er duidelijk bij of de afbeelding een kat of een hond is. YOLO gokt welk object hij ziet. \n",
    "- **Is het juist?** Dan doet YOLO niets.\n",
    "- **Is het fout?**  Dan verbetert YOLO zijn model, zodanig dat hij de foto in het vervolg wel correct kan herkennen.\n",
    "\n",
    "`Net als een mens, leren DL-algoritmes dus door te oefenen.` Geef het genoeg voorbeelden en een DL-algoritme kan accuraat gokken welk object (kat of hond) er op een afbeelding staat. Om een deftige accuraatheid te bekomen, zijn er typisch duizenden voorbeelden per object nodig. Gelukkig voor ons is YOLO al getraind om een hoop dagdagelijkse objecten te detecteren.\n",
    "\n",
    "Klik <a href=\"https://ferhat00.medium.com/deep-learning-with-keras-classifying-cats-and-dogs-part-1-982067594856\"><b>hier</b></a> als je meer wilt lezen over het trainen van je eigen DL-algoritmes. Dit artikel gebruikt 4000 afbeeldingen van katten en honden om zijn eigen object-detector te maken. \n",
    "\n",
    "<img src=\"../_afbeeldingen/katten.png\" alt=\"Dwengo\" style =\"display: block; margin-left: auto; margin-right: auto; margin-bottom: 30px; width:30%\"/>"
   ]
  },
  {
   "attachments": {},
   "cell_type": "markdown",
   "metadata": {},
   "source": [
    "<div style=\"margin-bottom:-35px;\">\n",
    "    <font color=#690027 markdown=\"1\">\n",
    "            <h1>3. Modules installeren en importeren</h1> \n",
    "    </font>\n",
    "</div>"
   ]
  },
  {
   "attachments": {},
   "cell_type": "markdown",
   "metadata": {},
   "source": [
    "Voer de cel hieronder uit om de bibliotheek `opencv` te installeren; dit is een belangrijke bibliotheek binnen de beeldverwerking. "
   ]
  },
  {
   "cell_type": "code",
   "execution_count": null,
   "metadata": {},
   "outputs": [],
   "source": [
    "%pip install opencv-python"
   ]
  },
  {
   "attachments": {},
   "cell_type": "markdown",
   "metadata": {},
   "source": [
    "Tenslotte laden we alle benodige modules in."
   ]
  },
  {
   "cell_type": "code",
   "execution_count": null,
   "metadata": {},
   "outputs": [],
   "source": [
    "# inladen nodige modules.\n",
    "import cv2\n",
    "import numpy as np\n",
    "from matplotlib import pyplot as plt\n",
    "\n",
    "from detectie import yolo_verwerking"
   ]
  },
  {
   "attachments": {},
   "cell_type": "markdown",
   "metadata": {},
   "source": [
    "<div style=\"background-color:#8B8000\"> \n",
    "Merk op dat we gebruik maken van dezelfde modules om foto's weer te geven als in de vorige Notebook.\n",
    "</div>"
   ]
  },
  {
   "attachments": {},
   "cell_type": "markdown",
   "metadata": {},
   "source": [
    "Om het YOLO-algoritme te gebruiken hebben we ook verschillende bestanden nodig. Deze staan al in de map `yolo`. Je hoeft hier dus niets voor te downloaden.\n",
    "- **yolov3.weights**: het getrainde YOLO-model (kijk eens hoe groot deze is).\n",
    "- **yolov3.cfg**: instellingen van het YOLO-model.\n",
    "- **coco.names**: overzicht van de objecten die YOLO kan detecteren en herkennen."
   ]
  },
  {
   "attachments": {},
   "cell_type": "markdown",
   "metadata": {},
   "source": [
    "<div style=\"margin-bottom:-35px;\" id=\"plt_imshow\">\n",
    "    <font color=#690027 markdown=\"1\">\n",
    "            <h1>4. Objecten detecteren met YOLO</h1> \n",
    "    </font>\n",
    "</div>"
   ]
  },
  {
   "cell_type": "markdown",
   "metadata": {},
   "source": [
    "<div style=\"margin-bottom:-35px;\">\n",
    "    <font color=#690027 markdown=\"1\">\n",
    "        <h3>4.1 Detecteren van een kat</h3> \n",
    "    </font>\n",
    "</div>"
   ]
  },
  {
   "attachments": {},
   "cell_type": "markdown",
   "metadata": {},
   "source": [
    "<p>Hieronder wordt een afbeelding van een kat weergegeven. </p>"
   ]
  },
  {
   "cell_type": "code",
   "execution_count": null,
   "metadata": {
    "scrolled": true
   },
   "outputs": [],
   "source": [
    "# functie geeft afbeelding weer\n",
    "def plt_imshow(title, image):\n",
    "    image = cv2.cvtColor(image, cv2.COLOR_BGR2RGB)\n",
    "    plt.imshow(image)\n",
    "    plt.title(title)\n",
    "    plt.grid(False)\n",
    "    plt.show()\n",
    "\n",
    "# Let op het pad!\n",
    "kat = cv2.imread(\"../_afbeeldingen/kat.jpg\") \n",
    "plt_imshow(\"Voorbeeldafbeelding\", kat)"
   ]
  },
  {
   "attachments": {},
   "cell_type": "markdown",
   "metadata": {},
   "source": [
    "Voer het YOLO-algoritme uit op de afbeelding door de volgende code-cel uit te voeren:"
   ]
  },
  {
   "cell_type": "code",
   "execution_count": null,
   "metadata": {
    "scrolled": true
   },
   "outputs": [],
   "source": [
    "# Let op het pad!\n",
    "yolo_verwerking(\"../_afbeeldingen/kat.jpg\")"
   ]
  },
  {
   "attachments": {},
   "cell_type": "markdown",
   "metadata": {},
   "source": [
    "Je ziet dat de kat herkend wordt, want er is een selectiekader rond de kat getekend. Het getal dat erbij staat geeft aan hoe zeker het algoritme is van wat er op de afbeelding staat. In dit geval is het algoritme dus `99 % zeker dat het een kat is.`"
   ]
  },
  {
   "attachments": {},
   "cell_type": "markdown",
   "metadata": {},
   "source": [
    "<div style='margin-bottom:-35px;color: #690027;' markdown=\"1\">\n",
    "<h3>4.2 Oefening met YOLO</h3>\n",
    "</div>"
   ]
  },
  {
   "attachments": {},
   "cell_type": "markdown",
   "metadata": {},
   "source": [
    "Het Yolo-algoritme kan dus reeds katten detecteren. Ook alle andere objecten in `coco.names` kan het herkennen.De vraag is hoe correct het dit kan doen. Vorige afbeelding was natuurlijk heel eenvoudig."
   ]
  },
  {
   "attachments": {},
   "cell_type": "markdown",
   "metadata": {},
   "source": [
    "### Oefen mee 4.1\n",
    "- Bekijk de afbeeldingen `hondkat.png` en `hondcake.png` in deze Notebook met behulp van de <a href=\"#plt_imshow\">functie plt_imshow</a>. De afbeeldingen zijn terug te vinden in de map `_afbeeldingen`."
   ]
  },
  {
   "cell_type": "code",
   "execution_count": null,
   "metadata": {},
   "outputs": [],
   "source": [
    "# Laat afbeelding hondkat.png en hondcake.png zien. Ze staan in de map _afbeeldingen.\n",
    "# Maak hiervoor gebruik van de functie plt_imshow gegeven in 4.1.\n",
    "\n",
    "# Afbeelding hondkat.png\n",
    "\n",
    "# Afbeelding hondcake.png"
   ]
  },
  {
   "attachments": {},
   "cell_type": "markdown",
   "metadata": {},
   "source": [
    "-  Voer het YOLO-algoritme nu uit op beide afbeeldingen."
   ]
  },
  {
   "cell_type": "code",
   "execution_count": null,
   "metadata": {
    "scrolled": true
   },
   "outputs": [],
   "source": [
    "# Verwerk afbeeldingen hondkat en hondcake door YOLO\n"
   ]
  },
  {
   "cell_type": "markdown",
   "metadata": {},
   "source": [
    "- Hoeveel dieren werden er juist gedetecteerd?"
   ]
  },
  {
   "attachments": {},
   "cell_type": "markdown",
   "metadata": {},
   "source": [
    "**Antwoord hondkat:**"
   ]
  },
  {
   "attachments": {},
   "cell_type": "markdown",
   "metadata": {},
   "source": [
    "**Antwoord hondcake:** \n"
   ]
  },
  {
   "cell_type": "markdown",
   "metadata": {},
   "source": [
    "- Werd er een dier fout gedetecteerd? Indien ja, hoe komt dit denk je?"
   ]
  },
  {
   "attachments": {},
   "cell_type": "markdown",
   "metadata": {},
   "source": [
    "**Antwoord hondkat:**"
   ]
  },
  {
   "attachments": {},
   "cell_type": "markdown",
   "metadata": {},
   "source": [
    "**Antwoord hondcake:** \n"
   ]
  },
  {
   "attachments": {},
   "cell_type": "markdown",
   "metadata": {},
   "source": [
    "<div style='margin-bottom:-35px;color: #690027;' markdown=\"1\">\n",
    "<h2>5. Belang van een goede dataset</h2>\n",
    "</div>"
   ]
  },
  {
   "attachments": {},
   "cell_type": "markdown",
   "metadata": {},
   "source": [
    "Een DL-model wordt getraind a.d.h.v. voorbeelden (ook wel een `dataset` genoemd). Een goede dataset bevat veel voorbeelden van alle zaken die het algoritme moet onderscheiden.\n",
    "\n",
    "Stel dat je de `tomaten in je moestuin wilt herkennen`. Je neemt eerst heel wat foto's van tomaten. Waarna je deze foto's aan het model geeft, met op iedere afbeelding de label 'tomaat'. Het algoritme zoekt dan zelf kenmerken die op elke foto voorkomen, bijvoorbeeld dat de `tomaat rond is en rood`. Plots merk je dat je systeem compleet ontregeld is, blijkbaar waren kinderen met een `rode bal´ in het beeld van de camera aan het spelen...\n",
    "\n",
    "Als een ander voorwerp sterk lijkt op hetgeen jij wilt detecteren, dan kan dat ertoe leiden dat het model fouten maakt. Hetzelfde gebeurde hierboven bij de afbeeldingen van **honden** en **cake**. Om dit te voorkomen, moet je altijd goed nadenken over welke objecten allemaal in jouw omgeving zullen voorkomen. Het algoritme moet getraind zijn om het verschil ertussen te zien!"
   ]
  },
  {
   "attachments": {},
   "cell_type": "markdown",
   "metadata": {},
   "source": [
    "### Oefen mee 5.1 \n",
    "- Op basis van de YOLO-output van de afbeelding `hondcake.png`. welke kenmerken denk jij dat het model bij hond zou hebben geplaatst? Hoe kan hierdoor verwarring ontstaan met een cupcake?"
   ]
  },
  {
   "attachments": {},
   "cell_type": "markdown",
   "metadata": {},
   "source": [
    "**Antwoord:**\n",
    "\n",
    "\n",
    "\n"
   ]
  },
  {
   "attachments": {},
   "cell_type": "markdown",
   "metadata": {},
   "source": [
    "Voorwerpen die sterk op elkaar lijken is een probleem waar zelf de beste *machine learning* en *deep learning* algoritmes nog op vast lopen. Dit toont dan ook het nut aan van een **uitgebreide en gevarieerde dataset**. \n",
    "\n",
    "Nog een aantal voorbeelden van datasets waar veel algoritmes op vast lopen zijn. Alle voorbeelden uit deze Notebook zijn niet realistisch, maar duiden wel het gevaar aan van een beperkte dataset. beeld je eens in dat iets soortgelijks zou gebeuren met een zelfrijdende wagen?\n",
    "<table><tr>\n",
    "<td><figure>\n",
    "  <img src=\"../_afbeeldingen/hondkip.jpg\" alt=\"Trulli\" width=\"200\">\n",
    "    <figcaption><center>Hond of crispy chicken</center></figcaption>\n",
    "</figure></td>\n",
    "<td><figure>\n",
    "  <img src=\"../_afbeeldingen/hondmop.jpg\" alt=\"Trulli\" width=\"200\">\n",
    "    <figcaption><center>Hond of mop</center></figcaption>\n",
    "</figure></td>\n",
    "<td><figure>\n",
    "  <img src=\"../_afbeeldingen/slotchocoladekoek.jpg\" alt=\"Trulli\" width=\"200\">\n",
    "    <figcaption><center>Chocoladekoek of luiaard</center></figcaption>\n",
    "</figure></td>\n",
    "<td><figure>\n",
    "  <img src=\"../_afbeeldingen/corgibrood.png\" alt=\"Trulli\" width=\"200\">\n",
    "    <figcaption><center>Corgi of brood</center></figcaption>\n",
    "</figure> </td>\n",
    "</tr></table>"
   ]
  },
  {
   "attachments": {},
   "cell_type": "markdown",
   "metadata": {},
   "source": [
    "Omdat de objecten op deze figuren zo op elkaar gelijken, heeft het menselijk oog soms al problemen om de getoonde objecten van elkaar te onderscheiden. Om deze dan te gaan detecteren met een algoritme is nog veel moeilijker, mede omdat de computer niet naar de omgeving van het voorwerp kijkt, zoals wij wel doen."
   ]
  },
  {
   "attachments": {},
   "cell_type": "markdown",
   "metadata": {},
   "source": [
    "### Oefen mee 5.2 (Extra)"
   ]
  },
  {
   "attachments": {},
   "cell_type": "markdown",
   "metadata": {},
   "source": [
    "Open het bestand detectie.py en ga naar de functie yolo_verwerking.<br> Analyseer deze. Welke onderdelen begrijp je wel? Welke niet?"
   ]
  },
  {
   "attachments": {},
   "cell_type": "markdown",
   "metadata": {},
   "source": [
    "**Antwoord:**"
   ]
  },
  {
   "attachments": {},
   "cell_type": "markdown",
   "metadata": {},
   "source": [
    "  <a href=\"https://www.aiopschool.be/dwengo/\"> \n",
    "        <img src=\"../_afbeeldingen/bannerugentdwengo.png\" alt=\"Dwengo\" style =\"display: block; margin-left: auto; margin-right: auto; margin-bottom: 30px; width:20%\"/>\n",
    "    </a>\n",
    "\n",
    "Deze Notebook is gebaseerd op: Notebook AI in de landbouw, zie <a href=\"http://www.aiopschool.be\">AI Op School</a>, van M. Benoit, F. wyffels & N. Gesquière is in licentie gegeven volgens een <a href=\"http://creativecommons.org/licenses/by-nc-sa/4.0/\">Creative Commons Naamsvermelding-NietCommercieel-GelijkDelen 4.0 Internationaal-licentie</a>. "
   ]
  }
 ],
 "metadata": {
  "kernelspec": {
   "display_name": "les_venv",
   "language": "python",
   "name": "python3"
  },
  "language_info": {
   "codemirror_mode": {
    "name": "ipython",
    "version": 3
   },
   "file_extension": ".py",
   "mimetype": "text/x-python",
   "name": "python",
   "nbconvert_exporter": "python",
   "pygments_lexer": "ipython3",
   "version": "3.10.5"
  },
  "vscode": {
   "interpreter": {
    "hash": "d4a42cf493d258bb6146c972636772f0dfda28443ad2c4538a85a0c04bb18d46"
   }
  }
 },
 "nbformat": 4,
 "nbformat_minor": 4
}
