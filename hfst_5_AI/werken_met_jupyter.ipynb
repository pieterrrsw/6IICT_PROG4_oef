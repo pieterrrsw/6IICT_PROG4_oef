{
 "cells": [
  {
   "attachments": {},
   "cell_type": "markdown",
   "metadata": {},
   "source": [
    "<div style=\"margin-bottom:-35px;\">\n",
    "    <font color=#690027 markdown=\"1\">\n",
    "        <h1>Werken met Jupyter Notebook</h1> \n",
    "    </font>    \n",
    "</div>"
   ]
  },
  {
   "attachments": {},
   "cell_type": "markdown",
   "metadata": {},
   "source": [
    "<div style=\"background-color:#013220\">\n",
    "Welkom in jullie eerste Jupyter Notebook!<br>\n",
    "In deze notebook wordt uit de doeken gedaan wat notebooks zijn en hoe je ze kunt gebruiken. \n",
    "Het wordt aangeraden om een donker VS Code thema te gebruiken. <br>\n",
    "</div>"
   ]
  },
  {
   "attachments": {},
   "cell_type": "markdown",
   "metadata": {},
   "source": [
    "<div style=\"margin-bottom:-35px;\">\n",
    "    <font color=#690027 markdown=\"1\">\n",
    "        <h2>1. Jupyter Notebook</h2> \n",
    "    </font>    \n",
    "</div>"
   ]
  },
  {
   "attachments": {},
   "cell_type": "markdown",
   "metadata": {},
   "source": [
    "Jupyter Notebook is een opensourcewebapplicatie waarin je *notebooks* kan creëren, gebruiken en bewerken.\n",
    "Notebooks zijn **digitale documenten** die zowel uitvoerbare code bevatten, als tekst, afbeeldingen, filmpjes en hyperlinks. Het is dus mogelijk om via de notebooks nieuwe begrippen aan te brengen, opdrachten te formuleren, foto's te tonen, aanwezige code uit te voeren en zelf code op te stellen. Eigenlijk kan je Notebooks beschouwen als een soort OneNote, waar je de code meteen bij kan uitvoeren. <br><br>\n",
    "Kortweg, Notebooks kunnen ingezet worden om nieuwe leerstof te verwerken, inclusief een programmeeromgeving. De code die in deze Notebooks gehanteerd wordt, is *Python 3*."
   ]
  },
  {
   "attachments": {},
   "cell_type": "markdown",
   "metadata": {},
   "source": [
    "De Jupyter Notebooks worden aangeboden via VS Code. Het is echter ook mogelijk om deze via je browser te openen. Hiervoor moet je wel een extra module installeren. Zie hiervoor deel 4.2 in de OneNote."
   ]
  },
  {
   "attachments": {},
   "cell_type": "markdown",
   "metadata": {},
   "source": [
    "<div style=\"margin-bottom:-35px;\">\n",
    "    <font color=#690027 markdown=\"1\">\n",
    "        <h2>2. De kaders</h2> \n",
    "     </font>    \n",
    "</div>"
   ]
  },
  {
   "attachments": {},
   "cell_type": "markdown",
   "metadata": {},
   "source": [
    "In de komende Notebooks worden **groene, gele, blauwe en rode kaders** gebruikt."
   ]
  },
  {
   "attachments": {},
   "cell_type": "markdown",
   "metadata": {},
   "source": [
    "<div style=\"background-color:#013220\">\n",
    "De groene kaders geven uitleg over de Notebook en randinformatie m.b.t. de inhoud van de Notebook.\n",
    "</div>"
   ]
  },
  {
   "attachments": {},
   "cell_type": "markdown",
   "metadata": {},
   "source": [
    "<div style=\"background-color:#8B8000\"> \n",
    "De gele kaders verwijzen naar andere Notebooks. Deze worden gebruikt om te verwijzen naar theoretische achtergrond of naar een uitbreiding op de Notebooks waarin je bezig bent.\n",
    "</div>"
   ]
  },
  {
   "attachments": {},
   "cell_type": "markdown",
   "metadata": {},
   "source": [
    "<div style=\"background-color:#000065\"> \n",
    "De blauwe kaders bevatten theorie over computerwetenschappen, alsook andere theorie die je op dat moment behandelt.\n",
    "</div>"
   ]
  },
  {
   "attachments": {},
   "cell_type": "markdown",
   "metadata": {},
   "source": [
    "<div style=\"background-color:#8B0000\"> \n",
    "De rode kaders geven tips en waarschuwen voor zaken waar je zeker op moet letten.\n",
    "</div>"
   ]
  },
  {
   "attachments": {},
   "cell_type": "markdown",
   "metadata": {},
   "source": [
    "<div style=\"margin-bottom:-35px;\">\n",
    "    <font color=#690027 markdown=\"1\">\n",
    "        <h2>3. Werken met Notebooks</h2> \n",
    "    </font>    \n",
    "</div>"
   ]
  },
  {
   "attachments": {},
   "cell_type": "markdown",
   "metadata": {},
   "source": [
    "<div style=\"margin-bottom:-35px;\">\n",
    "    <font color=#690027 markdown=\"1\">\n",
    "        <h3>3.1 Soorten cellen</h3>\n",
    "    </font>\n",
    "</div>"
   ]
  },
  {
   "attachments": {},
   "cell_type": "markdown",
   "metadata": {},
   "source": [
    "In de Notebooks vind je twee soorten cellen terug: een *Markdown-cel* en een *code-cel*.\n",
    "-  Een **Markdown-cel** komt overeen met een vak waarin je tekst kan schrijven, maar ook hyperlinks en afbeeldingen kunt invoegen. Dit veld en alle voorgaande velden zijn dus **Markdown-cellen**.\n",
    "-  Een **code-cel** dient om code in te geven. Je herkent een code-cel aan de grijze rand en de `[ ]` links ervan. Eens de code is uitgevoerd, staat er een getal tussen de `[ ]`. Het getal dient om bij te houden in welke volgorde de verschillende code-cellen zijn uitgevoerd."
   ]
  },
  {
   "cell_type": "code",
   "execution_count": null,
   "metadata": {
    "vscode": {
     "languageId": "python"
    }
   },
   "outputs": [],
   "source": [
    "# Deze tekst staat in een code-cel."
   ]
  },
  {
   "cell_type": "markdown",
   "metadata": {},
   "source": [
    "### Oefen mee 3.1"
   ]
  },
  {
   "attachments": {},
   "cell_type": "markdown",
   "metadata": {},
   "source": [
    "Dubbelkik **hier**. De achterliggende instructies van deze Markdown-cel worden zichtbaar, evenals de contour van de cel. Keer terug naar de meer leesbare weergave door op **Ctrl + Enter** te drukken of op het 'vinkje' rechts in de werkbalk. Merk ook op dat de afbeelding 'vinkje' is ingevoerd via HTML.\n",
    "<img src=\"_afbeeldingen/run.jpg\" alt=\"Banner\" style =\"display: block; margin-left: auto; margin-right: auto; width: 5%\"/>"
   ]
  },
  {
   "attachments": {},
   "cell_type": "markdown",
   "metadata": {},
   "source": [
    "<div style=\"background-color:#013220\">\n",
    "Soms wordt in de Notebook gevraagd om een antwoord te formuleren bij een opdracht. Dat gebeurt steeds in een Markdown-cel. <br><br>Je dubbelklikt dan op de cel en voert het antwoord in. Met 'Ctrl + Enter' of 'Run' voer je tot slot de cel uit om terug te keren naar de meer leesbare weergave.\n",
    "</div>"
   ]
  },
  {
   "attachments": {},
   "cell_type": "markdown",
   "metadata": {},
   "source": [
    "### Oefen mee 3.2"
   ]
  },
  {
   "attachments": {},
   "cell_type": "markdown",
   "metadata": {},
   "source": [
    "Hover met de muis in het midden-onderaan van deze Markdown-cel (ook midden-bovenaan werkt). Onderstaand venster zal verschijnen.\n",
    "<img src=\"_afbeeldingen/celtoevoegen.jpg\" alt=\"Banner\" style =\"display: block; margin-left: auto; margin-right: auto; width: 25%\"/>\n",
    "\n",
    "Je kan hiermee nieuwe cellen toevoegen."
   ]
  },
  {
   "attachments": {},
   "cell_type": "markdown",
   "metadata": {},
   "source": [
    "Voer volgende instructies uit:\n",
    "- Voeg een \"code-cel\" toe **boven deze cel**.\n",
    "- De aangemaakte cel is een code-cel. Verander het in een Markdown-cel door erin te klikken en rechtsonderaan **Python** te veranderen naar **Markdown**. \n",
    "- Verplaats de nieuw aangemaakte cel nu onder deze cel. Dit kan door de cel te verslepen.\n",
    "- Dubbelklik tenslotte op de verplaatste cel. Schrijf erin \"oefen mee 3.2 klaar\" en voer de cel uit (via **CTRL+ENTER**). "
   ]
  },
  {
   "cell_type": "markdown",
   "metadata": {},
   "source": [
    "### Oefen mee 3.3"
   ]
  },
  {
   "attachments": {},
   "cell_type": "markdown",
   "metadata": {},
   "source": [
    "- Klik in de code-cel hieronder. \n",
    "- Druk op 'Ctrl + Enter' of op 'Play'-pijl links in de werkbalk om de code-cel uit te voeren. Let op het getal dat zal verschijnen tussen de `[ ]`.<br><br> De uitvoer verschijnt onder de cel."
   ]
  },
  {
   "cell_type": "code",
   "execution_count": null,
   "metadata": {
    "vscode": {
     "languageId": "python"
    }
   },
   "outputs": [],
   "source": [
    "print(\"Welkom bij Jupyter Notebooks!\")"
   ]
  },
  {
   "attachments": {},
   "cell_type": "markdown",
   "metadata": {},
   "source": [
    "Als je 1 keer op een cel klikt, verschijnen er rechts een aantal knoppen. Klik op de drie puntjes \"...\" . Je kan hier een cel knippen, kopiëren, plakken, enz.\n",
    "<div style=\"background-color:#8B0000\"> \n",
    "Knippen, kopiëren en plakken kan ook door een cel te selecteren en X, C en V te gebruiken. Opgelet! De ctrl-toets is hier niet nodig.\n",
    "</div>\n",
    "<div><img src=\"_afbeeldingen/knipcopypaste.jpg\" alt=\"Banner\" style =\"display: block; margin-left: auto; margin-right: auto; width: 20%\"/></div>\n",
    "\n",
    "- Gebruik de knip-knop en plak-knop om de cel **Oefen mee 3.4** (die onder deze cel staat) boven deze cel te verplaatsen.\n",
    "\n",
    "\n"
   ]
  },
  {
   "cell_type": "markdown",
   "metadata": {},
   "source": [
    "### Oefen mee 3.4"
   ]
  },
  {
   "attachments": {},
   "cell_type": "markdown",
   "metadata": {},
   "source": [
    "<div style=\"margin-bottom:-35px;\">\n",
    "    <font color=#690027 markdown=\"1\">\n",
    "        <h3>3.2 Notebook als een programma</h2> \n",
    "    </font>    \n",
    "</div>"
   ]
  },
  {
   "attachments": {},
   "cell_type": "markdown",
   "metadata": {},
   "source": [
    "Toen je in **oefen mee 3.3** de codecel uitvoerde, verscheen er tussen de `[ ]` een cijfer. Het cijfer duidt aan als hoeveelste \"regel\" de code is uitgevoerd."
   ]
  },
  {
   "attachments": {},
   "cell_type": "markdown",
   "metadata": {},
   "source": [
    "<div style=\"background-color:#8B0000\"> \n",
    "De Notebook onthoudt als het ware in welke volgorde code is uitgevoerd. Ongeacht de volgorde die deze code-cellen hebben in de Notebook.\n",
    "<div>"
   ]
  },
  {
   "cell_type": "markdown",
   "metadata": {},
   "source": [
    "### Oefen mee 3.5"
   ]
  },
  {
   "attachments": {},
   "cell_type": "markdown",
   "metadata": {},
   "source": [
    "**Let tijdens deze opdracht goed op de cijfers tussen de** `[ ]` <br>\n",
    "\n",
    "Onderaan staan twee codeblokken. Voer eerst de bovenste uit. Dit geeft een **foutmelding** omdat de variabele x nog niet bestaat. <br>\n",
    "\n",
    "Voer nu de onderste uit en vervolgens de bovenste codecel. De Notebook weet nu wel wat variabele x is. Het is namelijk in een voorgaande \"regel\" (getal tussen de `[ ]`) gedeclareerd."
   ]
  },
  {
   "cell_type": "code",
   "execution_count": null,
   "metadata": {
    "vscode": {
     "languageId": "python"
    }
   },
   "outputs": [],
   "source": [
    "print(x)"
   ]
  },
  {
   "cell_type": "code",
   "execution_count": null,
   "metadata": {
    "vscode": {
     "languageId": "python"
    }
   },
   "outputs": [],
   "source": [
    "x = 10"
   ]
  },
  {
   "cell_type": "markdown",
   "metadata": {},
   "source": [
    "### Oefen mee 3.6"
   ]
  },
  {
   "attachments": {},
   "cell_type": "markdown",
   "metadata": {},
   "source": [
    "**Let tijdens deze opdracht goed op de cijfers tussen de** `[ ]` <br>\n",
    "\n",
    "- Onderaan staan twee codeblokken. Voer eerst de bovenste uit, vervolgens de onderste. Wat print dit? \n",
    "\n",
    "- Verander de waarde van y in het bovenste blok naar 10 **zonder** het bovenste blok uit te voeren. Voer opnieuw het onderste blok uit. Wat print dit?\n",
    "\n",
    "- Voer nu eerst het bovenste blok uit en vervolgens het onderste blok. Wat print dit?\n",
    "\n",
    "Het moet je opvallen dat je code kunt aanpassen, maar enkel na het uitvoeren van de regel zal de Notebook zich hiervan bewust zijn."
   ]
  },
  {
   "attachments": {},
   "cell_type": "markdown",
   "metadata": {},
   "source": [
    "**Antwoord op bovenstaande vragen:**"
   ]
  },
  {
   "cell_type": "code",
   "execution_count": null,
   "metadata": {
    "vscode": {
     "languageId": "python"
    }
   },
   "outputs": [],
   "source": [
    "y = 5"
   ]
  },
  {
   "cell_type": "code",
   "execution_count": null,
   "metadata": {
    "vscode": {
     "languageId": "python"
    }
   },
   "outputs": [],
   "source": [
    "print(y)"
   ]
  },
  {
   "attachments": {},
   "cell_type": "markdown",
   "metadata": {},
   "source": [
    "<div style=\"margin-bottom:-35px;\">\n",
    "    <font color=#690027 markdown=\"1\">\n",
    "        <h3>3.3 Gebruik van venv in Notebook</h2> \n",
    "    </font>    \n",
    "</div>"
   ]
  },
  {
   "attachments": {},
   "cell_type": "markdown",
   "metadata": {},
   "source": [
    "Kijk rechtsboven in VS Code. Je ziet hier de interpreter die Notebook momenteel gebruikt.\n",
    "\n",
    "<img src=\"_afbeeldingen/interpreter.jpg\" alt=\"Banner\" style =\"display: block; margin-left: auto; margin-right: auto; width: 20%\"/> \n",
    "\n",
    "Momenteel gebruikt Jupyter Notebook de globale Python Interpreter. Dit is een probleem. Als we via Notebook modules installeren, worden deze dus ook globaal toegevoegd. We willen liever gebruik maken van een venv. Volg hiervoor volgende stappen."
   ]
  },
  {
   "attachments": {},
   "cell_type": "markdown",
   "metadata": {},
   "source": [
    "### STAP 1: aanmaken venv (optioneel)\n",
    "Maak een venv aan. Kies een logische locatie. Verplaatsen van de venv na aanmaken leidt meestal tot foutmeldingen. Ik vind het persoonlijk het beste om een map op het bureaublad te voorzien waarin alle venv staan. Als je reeds een vaste venv hebt, sla je deze stap over."
   ]
  },
  {
   "attachments": {},
   "cell_type": "markdown",
   "metadata": {},
   "source": [
    "```shell\n",
    "# VOORBEELD in opdrachtprompt: aanmaken venv met naam voorbeeld_venv in map op het bureablad\n",
    "C:\\Users\\Hendrik.Clijsters> \n",
    "    py -m venv C:/Users/Hendrik.Clijsters/Desktop/venv/voorbeeld_venv\n",
    "```"
   ]
  },
  {
   "attachments": {},
   "cell_type": "markdown",
   "metadata": {},
   "source": [
    "### STAP 2: activeer venv en installeer ipykernel\n",
    "activeer de venv, installeer er vervolgens de module ipykernel in."
   ]
  },
  {
   "attachments": {},
   "cell_type": "markdown",
   "metadata": {},
   "source": [
    "```shell\n",
    "# VOORBEELD in opdrachtprompt: activeren venv voorbeeld_venv\n",
    "C:\\Users\\Hendrik.Clijsters>\n",
    "    C:/Users/Hendrik.Clijsters/Desktop/venv/voorbeeld_venv/Scripts/activate\n",
    "\n",
    "# Controleer dat de venv geactiveerd is, vooraleer de volgende stap uit te voeren.\n",
    "# De naam van de venv moet links tussen ronde haken te zien zijn.\n",
    "(voorbeeld_venv) C:\\Users\\Hendrik.Clijsters>\n",
    "\n",
    "# VOORBEELD in opdrachtprompt: installeren ipykernel\n",
    "(voorbeeld_venv) C:\\Users\\Hendrik.Clijsters>\n",
    "    pip install ipykernel \n",
    "```"
   ]
  },
  {
   "attachments": {},
   "cell_type": "markdown",
   "metadata": {},
   "source": [
    "### STAP 3: voeg kernel toe aan interpreter\n",
    "Voeg een kernel toe aan deze venv. Dit is hetgeen jupyter Notebook zal gebruiken om te communiceren met de venv."
   ]
  },
  {
   "attachments": {},
   "cell_type": "markdown",
   "metadata": {},
   "source": [
    "```shell\n",
    "# VOORBEELD in opdrachtprompt: toevoegen kernel\n",
    "# Controleer dat de venv geactiveerd is, vooraleer deze stap uit te voeren\n",
    "(voorbeeld_venv) C:\\Users\\Hendrik.Clijsters>\n",
    "    ipython kernel install --user --name=voorbeeld\n",
    "```"
   ]
  },
  {
   "attachments": {},
   "cell_type": "markdown",
   "metadata": {},
   "source": [
    "Herstart VS Code en klik rechtsboven op de interpreter. Je zal zien dat er een extra optie bij is gekomen. Gebruik deze vanaf nu voor iedere Notebook.\n",
    "\n",
    "\n",
    "<img src=\"_afbeeldingen/kernel.png\" alt=\"Banner\" style =\"display: block; margin-left: auto; margin-right: auto; width: 60%\"/> "
   ]
  },
  {
   "cell_type": "markdown",
   "metadata": {},
   "source": [
    "**Goed gedaan!** Je hebt zojuist je eerste notebook doorlopen."
   ]
  }
 ],
 "metadata": {
  "kernelspec": {
   "display_name": "les_venv",
   "language": "python",
   "name": "les_venv"
  },
  "vscode": {
   "interpreter": {
    "hash": "c58c2aa7d0668be41d779b9c0aeac89fa7edcfbcb9dd7a969e06833ff6090700"
   }
  }
 },
 "nbformat": 4,
 "nbformat_minor": 4
}
